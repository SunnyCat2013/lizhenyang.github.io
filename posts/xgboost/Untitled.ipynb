{
 "cells": [
  {
   "cell_type": "code",
   "execution_count": 2,
   "metadata": {},
   "outputs": [
    {
     "ename": "ModuleNotFoundError",
     "evalue": "No module named 'lxml'",
     "output_type": "error",
     "traceback": [
      "\u001b[0;31m---------------------------------------------------------------------------\u001b[0m",
      "\u001b[0;31mModuleNotFoundError\u001b[0m                       Traceback (most recent call last)",
      "\u001b[0;32m<ipython-input-2-a4d9d29f19f1>\u001b[0m in \u001b[0;36m<module>\u001b[0;34m()\u001b[0m\n\u001b[0;32m----> 1\u001b[0;31m \u001b[0;32mfrom\u001b[0m \u001b[0mlxml\u001b[0m \u001b[0;32mimport\u001b[0m \u001b[0mhtml\u001b[0m\u001b[0;34m\u001b[0m\u001b[0m\n\u001b[0m\u001b[1;32m      2\u001b[0m \u001b[0;32mfrom\u001b[0m \u001b[0mselenium\u001b[0m \u001b[0;32mimport\u001b[0m \u001b[0mwebdriver\u001b[0m\u001b[0;34m\u001b[0m\u001b[0m\n\u001b[1;32m      3\u001b[0m \u001b[0;32mfrom\u001b[0m \u001b[0mselenium\u001b[0m\u001b[0;34m.\u001b[0m\u001b[0mwebdriver\u001b[0m\u001b[0;34m.\u001b[0m\u001b[0mcommon\u001b[0m\u001b[0;34m.\u001b[0m\u001b[0mby\u001b[0m \u001b[0;32mimport\u001b[0m \u001b[0mBy\u001b[0m\u001b[0;34m\u001b[0m\u001b[0m\n\u001b[1;32m      4\u001b[0m \u001b[0;32mfrom\u001b[0m \u001b[0mselenium\u001b[0m\u001b[0;34m.\u001b[0m\u001b[0mwebdriver\u001b[0m\u001b[0;34m.\u001b[0m\u001b[0msupport\u001b[0m\u001b[0;34m.\u001b[0m\u001b[0mui\u001b[0m \u001b[0;32mimport\u001b[0m \u001b[0mWebDriverWait\u001b[0m\u001b[0;34m\u001b[0m\u001b[0m\n\u001b[1;32m      5\u001b[0m \u001b[0;32mfrom\u001b[0m \u001b[0mselenium\u001b[0m\u001b[0;34m.\u001b[0m\u001b[0mwebdriver\u001b[0m\u001b[0;34m.\u001b[0m\u001b[0msupport\u001b[0m \u001b[0;32mimport\u001b[0m \u001b[0mexpected_conditions\u001b[0m\u001b[0;34m\u001b[0m\u001b[0m\n",
      "\u001b[0;31mModuleNotFoundError\u001b[0m: No module named 'lxml'"
     ]
    }
   ],
   "source": [
    "from lxml import html\n",
    "from selenium import webdriver\n",
    "from selenium.webdriver.common.by import By\n",
    "from selenium.webdriver.support.ui import WebDriverWait \n",
    "from selenium.webdriver.support import expected_conditions\n",
    "driver = webdriver.Chrome()\n",
    "url = 'http://rexian.beijing.gov.cn/default/com.web.complain.moreNewComplain.flow'\n",
    "driver.get(url)\n",
    "prefix = 'http://rexian.beijing.gov.cn/default/'\n",
    "\n",
    "with open('output.csv', 'w') as out_file:\n",
    "    for pi in range(2):\n",
    "        # url = 'http://rexian.beijing.gov.cn/default/com.web.complain.moreNewComplain.flow'\n",
    "        x = html.fromstring(driver.page_source)\n",
    "        for i in range(1):\n",
    "            tbodys= x.xpath('//*[@id=\"newComplainnList\"]/li[{i}]/p[1]/a'.format(i = i + 1))\n",
    "            detail_page = prefix + tbodys[0].values()[0]\n",
    "            # detail_page = 'http://rexian.beijing.gov.cn/default/com.web.complain.complainDetail.flow?originalId=AH18082200202'\n",
    "            hp = html.parse(detail_page)\n",
    "            #print detail_page\n",
    "            title = hp.xpath('//*[@id=\"Dbanner\"]/div/div[2]/div/div[1]/h2')[0].text\n",
    "            content = hp.xpath('//*[@id=\"Dbanner\"]/div/div[2]/div/div[1]/span')[0].text\n",
    "            time = hp.xpath('//*[@id=\"Dbanner\"]/div/div[2]/div/div[1]/p/span[2]')[0].text\n",
    "            #print title\n",
    "            #print content\n",
    "            time = time[3:]\n",
    "            #print time\n",
    "            res_community = hp.xpath('//*[@id=\"Dbanner\"]/div/div[2]/div/div[2]/span[1]')[0].text\n",
    "            #print res_community\n",
    "            res_time = hp.xpath('//*[@id=\"Dbanner\"]/div/div[2]/div/div[2]/span[2]')[0].text\n",
    "            #print res_time\n",
    "            res_content = hp.xpath('//*[@id=\"Dbanner\"]/div/div[2]/div/div[2]/p/text()')[0]\n",
    "            #print res_content\n",
    "            upvote = hp.xpath('//*[@id=\"askSameDivAH18052300063fine\"]/text()')\n",
    "            upvote = upvote[0].strip() if upvote else 0\n",
    "            #upvote = upvote.strip()\n",
    "            #print upvote\n",
    "            downvote = hp.xpath('//*[@id=\"askSameDivAH18052300063bad\"]/text()')\n",
    "            downvote = downvote[0].strip() if downvote else 0\n",
    "            #downvote = downvote.strip()\n",
    "            #print downvote\n",
    "            outarr = [title , content , time , res_community , res_time , res_content , upvote , downvote]\n",
    "#             for a in outarr:\n",
    "#                 print a\n",
    "#                 a.decode('ascii')\n",
    "#             output = '\\t'.join(outarr)\n",
    "            output = u'{title}\\t{content}\\t{time}\\t{res_community}\\t{res_time}\\t{res_content}\\t{upvote}\\t{downvote}'.format(title = title , content = content , time = time , res_community = res_community , res_time = res_time , res_content = res_content , upvote = upvote , downvote = downvote)\n",
    "            #print output\n",
    "            out_file.write(output)\n",
    "            #print u'{detail_page}\\t{title}\\t{content}\\t{time}\\t{res_community}\\t{res_time}\\t{res_content}\\t{upvote}\\t{downvote}'.format(detail_page = detail_page, title = title , content = content , time = time , res_community = res_community , res_time = res_time , res_content = res_content , upvote = upvote , downvote = downvote)\n",
    "        next_page = driver.find_elements_by_xpath('//*[@id=\"page\"]/span/a[3]')[0]\n",
    "        next_page.click()\n",
    "        # sleep(1000)\n",
    "        #WebDriverWait(driver, timeout = 300).until(lambda x: x.find_element_by_xpath('/html/body/metahttp-equiv=\"content-type\"/div[5]/div[2]/div/div[1]/div'))\n",
    "    \n",
    "    \n",
    "    "
   ]
  },
  {
   "cell_type": "code",
   "execution_count": null,
   "metadata": {},
   "outputs": [],
   "source": []
  }
 ],
 "metadata": {
  "kernelspec": {
   "display_name": "Python 3",
   "language": "python",
   "name": "python3"
  },
  "language_info": {
   "codemirror_mode": {
    "name": "ipython",
    "version": 3
   },
   "file_extension": ".py",
   "mimetype": "text/x-python",
   "name": "python",
   "nbconvert_exporter": "python",
   "pygments_lexer": "ipython3",
   "version": "3.6.5"
  }
 },
 "nbformat": 4,
 "nbformat_minor": 2
}
