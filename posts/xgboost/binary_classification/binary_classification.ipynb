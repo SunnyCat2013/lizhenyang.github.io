{
 "cells": [
  {
   "cell_type": "markdown",
   "metadata": {},
   "source": [
    "# 按照 https://github.com/dmlc/xgboost/tree/master/demo/binary_classification 获取数据"
   ]
  },
  {
   "cell_type": "markdown",
   "metadata": {},
   "source": [
    "# 疑问\n",
    "- `booster` 不同类型的区别\n",
    "    - gblinear\n",
    "    - gbtree"
   ]
  },
  {
   "cell_type": "code",
   "execution_count": 1,
   "metadata": {},
   "outputs": [],
   "source": [
    "import numpy as np"
   ]
  },
  {
   "cell_type": "code",
   "execution_count": 2,
   "metadata": {},
   "outputs": [],
   "source": [
    "import xgboost as xgb"
   ]
  },
  {
   "cell_type": "code",
   "execution_count": 3,
   "metadata": {},
   "outputs": [],
   "source": [
    "dtrain = xgb.DMatrix('agaricus.txt.train')"
   ]
  },
  {
   "cell_type": "code",
   "execution_count": 4,
   "metadata": {},
   "outputs": [],
   "source": [
    "dtest = xgb.DMatrix('agaricus.txt.test')"
   ]
  },
  {
   "cell_type": "code",
   "execution_count": 5,
   "metadata": {},
   "outputs": [],
   "source": [
    "params = {\n",
    "    'booster': 'gbtree',\n",
    "    'objective': 'binary:logistic', # 损失函数\n",
    "    'eta': 1.0, # 学习率\n",
    "    'gamma': 1.0, # minimum loss reduction required to make a further partition on a leaf node of the tree. The larger, the more conservative the algorithm will be.\n",
    "    'min_child_weight': 1, # 如果子结点的实例权重之和小于这个值，就不再分块了。\n",
    "    'max_depth': 3\n",
    "    # the console version parameters \n",
    "    # num_round = 2\n",
    "}"
   ]
  },
  {
   "cell_type": "markdown",
   "metadata": {},
   "source": [
    "We use the tree booster and logistic regression objective in our setting. This indicates that we accomplish our task using classic gradient boosting regression tree(GBRT), which is a promising method for binary classification.\n",
    "树形提升和 logistic regression objective 就是经典的树形提升回归树 (GBRT)"
   ]
  },
  {
   "cell_type": "code",
   "execution_count": 6,
   "metadata": {},
   "outputs": [],
   "source": [
    "watchlist = [(dtest, 'eval'), (dtrain, 'test')]"
   ]
  },
  {
   "cell_type": "code",
   "execution_count": 7,
   "metadata": {},
   "outputs": [],
   "source": [
    "num_round = 1"
   ]
  },
  {
   "cell_type": "code",
   "execution_count": 8,
   "metadata": {},
   "outputs": [
    {
     "name": "stdout",
     "output_type": "stream",
     "text": [
      "[0]\teval-error:0.015793\ttest-error:0.014524\n"
     ]
    }
   ],
   "source": [
    "bst = xgb.train(params, dtrain, num_round, watchlist)"
   ]
  },
  {
   "cell_type": "code",
   "execution_count": 9,
   "metadata": {},
   "outputs": [
    {
     "name": "stdout",
     "output_type": "stream",
     "text": [
      "error=0.015793\n"
     ]
    }
   ],
   "source": [
    "preds = bst.predict(dtest)\n",
    "labels = dtest.get_label()\n",
    "print('error=%f' % (sum(1 for i in range(len(preds)) if int(preds[i] > 0.5) != labels[i]) / float(len(preds))))"
   ]
  },
  {
   "cell_type": "code",
   "execution_count": 10,
   "metadata": {},
   "outputs": [],
   "source": [
    "bst.dump_model('dump.nice.model', 'featmap.txt')"
   ]
  },
  {
   "cell_type": "code",
   "execution_count": 11,
   "metadata": {},
   "outputs": [
    {
     "name": "stdout",
     "output_type": "stream",
     "text": [
      "booster[0]:\n",
      "0:[odor=pungent] yes=2,no=1\n",
      "\t1:[stalk-root=cup] yes=4,no=3\n",
      "\t\t3:[stalk-root=missing] yes=8,no=7\n",
      "\t\t\t7:leaf=1.899\n",
      "\t\t\t8:leaf=-1.94737\n",
      "\t\t4:[bruises?=no] yes=10,no=9\n",
      "\t\t\t9:leaf=1.78378\n",
      "\t\t\t10:leaf=-1.98135\n",
      "\t2:[spore-print-color=orange] yes=6,no=5\n",
      "\t\t5:[stalk-surface-below-ring=silky] yes=12,no=11\n",
      "\t\t\t11:leaf=-1.98546\n",
      "\t\t\t12:leaf=0.938776\n",
      "\t\t6:leaf=1.87097\n",
      "\n"
     ]
    }
   ],
   "source": [
    "with open('dump.nice.model', 'r') as inf:\n",
    "    print(inf.read())"
   ]
  }
 ],
 "metadata": {
  "kernelspec": {
   "display_name": "Python 3",
   "language": "python",
   "name": "python3"
  },
  "language_info": {
   "codemirror_mode": {
    "name": "ipython",
    "version": 3
   },
   "file_extension": ".py",
   "mimetype": "text/x-python",
   "name": "python",
   "nbconvert_exporter": "python",
   "pygments_lexer": "ipython3",
   "version": "3.6.1"
  }
 },
 "nbformat": 4,
 "nbformat_minor": 2
}
