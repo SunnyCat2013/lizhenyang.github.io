{
 "cells": [
  {
   "cell_type": "markdown",
   "metadata": {},
   "source": [
    "code: https://github.com/dmlc/xgboost/tree/master/demo/multiclass_classification\n",
    "\n",
    "data: https://archive.ics.uci.edu/ml/datasets/Dermatology"
   ]
  },
  {
   "cell_type": "code",
   "execution_count": 1,
   "metadata": {},
   "outputs": [],
   "source": [
    "import numpy as np\n",
    "import xgboost as xgb"
   ]
  },
  {
   "cell_type": "code",
   "execution_count": 2,
   "metadata": {},
   "outputs": [],
   "source": [
    "data = np.loadtxt('./dermatology.data', delimiter=',',\n",
    "        converters={33: lambda x:int(x == '?'), 34: lambda x:int(x) - 1})"
   ]
  },
  {
   "cell_type": "code",
   "execution_count": 3,
   "metadata": {},
   "outputs": [],
   "source": [
    "sz = data.shape"
   ]
  },
  {
   "cell_type": "code",
   "execution_count": 5,
   "metadata": {},
   "outputs": [],
   "source": [
    "train = data[:int(sz[0] * 0.7), :]\n",
    "test = data[int(sz[0] * 0.7):, :]\n",
    "\n",
    "train_X = train[:, :33]\n",
    "train_Y = train[:, 34]\n",
    "\n",
    "test_X = test[:, :33]\n",
    "test_Y = test[:, 34]"
   ]
  },
  {
   "cell_type": "code",
   "execution_count": 6,
   "metadata": {},
   "outputs": [],
   "source": [
    "xg_train = xgb.DMatrix(train_X, label=train_Y)\n",
    "xg_test = xgb.DMatrix(test_X, label=test_Y)"
   ]
  },
  {
   "cell_type": "code",
   "execution_count": 7,
   "metadata": {},
   "outputs": [],
   "source": [
    "# setup parameters for xgboost\n",
    "param = {}\n",
    "# use softmax multi-class classification\n",
    "param['objective'] = 'multi:softmax'\n",
    "# scale weight of positive examples\n",
    "param['eta'] = 0.1\n",
    "param['max_depth'] = 6\n",
    "param['silent'] = 1\n",
    "param['nthread'] = 4\n",
    "param['num_class'] = 6"
   ]
  },
  {
   "cell_type": "code",
   "execution_count": 8,
   "metadata": {},
   "outputs": [
    {
     "name": "stdout",
     "output_type": "stream",
     "text": [
      "[0]\ttrain-merror:0.011719\ttest-merror:0.127273\n",
      "[1]\ttrain-merror:0.015625\ttest-merror:0.127273\n",
      "[2]\ttrain-merror:0.011719\ttest-merror:0.109091\n",
      "[3]\ttrain-merror:0.007812\ttest-merror:0.081818\n",
      "[4]\ttrain-merror:0.007812\ttest-merror:0.090909\n"
     ]
    }
   ],
   "source": [
    "watchlist = [(xg_train, 'train'), (xg_test, 'test')]\n",
    "num_round = 5\n",
    "bst = xgb.train(param, xg_train, num_round, watchlist)"
   ]
  },
  {
   "cell_type": "code",
   "execution_count": 9,
   "metadata": {},
   "outputs": [
    {
     "name": "stdout",
     "output_type": "stream",
     "text": [
      "Test error using softmax = 0.09090909090909091\n"
     ]
    }
   ],
   "source": [
    "# get prediction\n",
    "pred = bst.predict(xg_test)\n",
    "error_rate = np.sum(pred != test_Y) / test_Y.shape[0]\n",
    "print('Test error using softmax = {}'.format(error_rate))\n"
   ]
  },
  {
   "cell_type": "code",
   "execution_count": 10,
   "metadata": {},
   "outputs": [
    {
     "name": "stdout",
     "output_type": "stream",
     "text": [
      "[0]\ttrain-merror:0.011719\ttest-merror:0.127273\n",
      "[1]\ttrain-merror:0.015625\ttest-merror:0.127273\n",
      "[2]\ttrain-merror:0.011719\ttest-merror:0.109091\n",
      "[3]\ttrain-merror:0.007812\ttest-merror:0.081818\n",
      "[4]\ttrain-merror:0.007812\ttest-merror:0.090909\n",
      "Test error using softprob = 0.09090909090909091\n"
     ]
    }
   ],
   "source": [
    "# do the same thing again, but output probabilities\n",
    "param['objective'] = 'multi:softprob'\n",
    "bst = xgb.train(param, xg_train, num_round, watchlist)\n",
    "# Note: this convention has been changed since xgboost-unity\n",
    "# get prediction, this is in 1D array, need reshape to (ndata, nclass)\n",
    "pred_prob = bst.predict(xg_test).reshape(test_Y.shape[0], 6)\n",
    "pred_label = np.argmax(pred_prob, axis=1)\n",
    "error_rate = np.sum(pred_label != test_Y) / test_Y.shape[0]\n",
    "print('Test error using softprob = {}'.format(error_rate))\n"
   ]
  },
  {
   "cell_type": "code",
   "execution_count": null,
   "metadata": {},
   "outputs": [],
   "source": []
  }
 ],
 "metadata": {
  "kernelspec": {
   "display_name": "Python 3",
   "language": "python",
   "name": "python3"
  },
  "language_info": {
   "codemirror_mode": {
    "name": "ipython",
    "version": 3
   },
   "file_extension": ".py",
   "mimetype": "text/x-python",
   "name": "python",
   "nbconvert_exporter": "python",
   "pygments_lexer": "ipython3",
   "version": "3.6.5"
  }
 },
 "nbformat": 4,
 "nbformat_minor": 2
}
