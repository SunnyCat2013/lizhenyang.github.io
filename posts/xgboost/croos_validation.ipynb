{
 "cells": [
  {
   "cell_type": "code",
   "execution_count": 1,
   "metadata": {},
   "outputs": [],
   "source": [
    "import numpy as np\n",
    "import xgboost as xgb"
   ]
  },
  {
   "cell_type": "code",
   "execution_count": 2,
   "metadata": {},
   "outputs": [],
   "source": [
    "dtrain = xgb.DMatrix('./demo/data/agaricus.txt.train')\n",
    "param = {'max_depth': 2, 'eta': 1, 'silent': 1, 'objective': 'binary:logistic'}\n",
    "num_round = 2"
   ]
  },
  {
   "cell_type": "code",
   "execution_count": 3,
   "metadata": {},
   "outputs": [
    {
     "name": "stdout",
     "output_type": "stream",
     "text": [
      "Running cross validation\n"
     ]
    }
   ],
   "source": [
    "print('Running cross validation')"
   ]
  },
  {
   "cell_type": "code",
   "execution_count": 5,
   "metadata": {},
   "outputs": [
    {
     "name": "stdout",
     "output_type": "stream",
     "text": [
      "[0]\ttrain-error:0.0506682+0.009201\ttest-error:0.0557316+0.0158887\n",
      "[1]\ttrain-error:0.0213034+0.00205561\ttest-error:0.0211884+0.00365323\n"
     ]
    },
    {
     "data": {
      "text/plain": [
       "{'train-error-mean': [0.0506682, 0.0213034],\n",
       " 'train-error-std': [0.009200997193782855, 0.0020556122786167634],\n",
       " 'test-error-mean': [0.055731600000000006, 0.021188400000000003],\n",
       " 'test-error-std': [0.015888666194492227, 0.0036532266614597024]}"
      ]
     },
     "execution_count": 5,
     "metadata": {},
     "output_type": "execute_result"
    }
   ],
   "source": [
    "xgb.cv(param, dtrain, num_round, nfold = 5, \n",
    "       metrics = {'error'}, seed = 0,\n",
    "       callbacks = [xgb.callback.print_evaluation(show_stdv = True)])"
   ]
  },
  {
   "cell_type": "markdown",
   "metadata": {},
   "source": [
    "只用训练数据做 cross validation"
   ]
  },
  {
   "cell_type": "code",
   "execution_count": 6,
   "metadata": {},
   "outputs": [
    {
     "name": "stdout",
     "output_type": "stream",
     "text": [
      "Running cross validation, disable standard deviation display\n"
     ]
    }
   ],
   "source": [
    "print('Running cross validation, disable standard deviation display')"
   ]
  },
  {
   "cell_type": "code",
   "execution_count": 9,
   "metadata": {},
   "outputs": [
    {
     "name": "stdout",
     "output_type": "stream",
     "text": [
      "[0]\ttrain-error:0.0506682+0.009201\ttest-error:0.0557316+0.0158887\n",
      "Multiple eval metrics have been passed: 'test-error' will be used for early stopping.\n",
      "\n",
      "Will train until test-error hasn't improved in 3 rounds.\n",
      "[1]\ttrain-error:0.0213034+0.00205561\ttest-error:0.0211884+0.00365323\n",
      "[2]\ttrain-error:0.0099418+0.00607648\ttest-error:0.0099786+0.00482795\n",
      "[3]\ttrain-error:0.0141256+0.00170577\ttest-error:0.0144336+0.00351713\n",
      "[4]\ttrain-error:0.0059878+0.00187791\ttest-error:0.0062948+0.00312318\n",
      "[5]\ttrain-error:0.0020344+0.00146961\ttest-error:0.0016886+0.000574184\n",
      "[6]\ttrain-error:0.0012284+0.000260265\ttest-error:0.001228+0.00104094\n",
      "[7]\ttrain-error:0.0012284+0.000260265\ttest-error:0.001228+0.00104094\n",
      "[8]\ttrain-error:0.0009212+0.000506197\ttest-error:0.001228+0.00104094\n",
      "[9]\ttrain-error:0.0006142+0.000506319\ttest-error:0.001228+0.00104094\n",
      "Stopping. Best iteration:\n",
      "[6]\ttrain-error:0.0012284+0.000260265\ttest-error:0.001228+0.00104094\n",
      "\n"
     ]
    }
   ],
   "source": [
    "res = xgb.cv(param, \n",
    "             dtrain, \n",
    "             num_boost_round = 10, nfold = 5, \n",
    "       metrics = {'error'}, seed = 0,\n",
    "       callbacks = [xgb.callback.print_evaluation(show_stdv = True), xgb.callback.early_stop(3)])"
   ]
  },
  {
   "cell_type": "code",
   "execution_count": 10,
   "metadata": {},
   "outputs": [
    {
     "name": "stdout",
     "output_type": "stream",
     "text": [
      "{'train-error-mean': [0.0506682, 0.0213034, 0.009941799999999999, 0.014125599999999999, 0.0059878, 0.0020344, 0.0012284], 'train-error-std': [0.009200997193782855, 0.0020556122786167634, 0.006076479256938181, 0.0017057689878761427, 0.0018779069625516596, 0.001469605198684327, 0.00026026494193417596], 'test-error-mean': [0.055731600000000006, 0.021188400000000003, 0.009978599999999999, 0.0144336, 0.006294800000000001, 0.0016885999999999997, 0.001228], 'test-error-std': [0.015888666194492227, 0.0036532266614597024, 0.004827953421482027, 0.003517125508138713, 0.0031231752688570006, 0.0005741844999649501, 0.0010409403441119958]}\n"
     ]
    }
   ],
   "source": [
    "print(res)"
   ]
  },
  {
   "cell_type": "code",
   "execution_count": 11,
   "metadata": {},
   "outputs": [],
   "source": [
    "def fpreproc(dtrain, dtest, param):\n",
    "    label = dtrain.get_label()\n",
    "    ratio = float(np.sum(label == 0)) / np.sum(label == 1)\n",
    "    param['scale_pos_weight'] = ratio\n",
    "    return (dtrain, dtest, param)"
   ]
  },
  {
   "cell_type": "code",
   "execution_count": 13,
   "metadata": {},
   "outputs": [
    {
     "data": {
      "text/plain": [
       "{'train-auc-mean': [0.9582284, 0.9814142],\n",
       " 'train-auc-std': [0.001441856664166039, 0.0006469174290433207],\n",
       " 'test-auc-mean': [0.9582322, 0.9814308],\n",
       " 'test-auc-std': [0.005778480990710278, 0.002595425545069615]}"
      ]
     },
     "execution_count": 13,
     "metadata": {},
     "output_type": "execute_result"
    }
   ],
   "source": [
    "xgb.cv(param, dtrain, num_round, nfold = 5, metrics = {'auc'}, seed = 0, fpreproc = fpreproc)"
   ]
  },
  {
   "cell_type": "code",
   "execution_count": 14,
   "metadata": {},
   "outputs": [
    {
     "name": "stdout",
     "output_type": "stream",
     "text": [
      "Running cross validation with customised loss function\n"
     ]
    }
   ],
   "source": [
    "print('Running cross validation with customised loss function')"
   ]
  },
  {
   "cell_type": "code",
   "execution_count": 22,
   "metadata": {},
   "outputs": [],
   "source": [
    "def logregobj(preds, dtrain):\n",
    "    labels = dtrain.get_label()\n",
    "    preds = 1.0 / (1.0 + np.exp(-preds))\n",
    "    grad = preds - labels\n",
    "    hess = preds * (1.0 - preds)\n",
    "    return grad, hess"
   ]
  },
  {
   "cell_type": "code",
   "execution_count": 26,
   "metadata": {},
   "outputs": [],
   "source": [
    "def evalerror(preds, dtrain):\n",
    "    labels = dtrain.get_label()\n",
    "    return 'Error', float(sum(labels != (preds > 0.0)) / len(labels))"
   ]
  },
  {
   "cell_type": "code",
   "execution_count": 27,
   "metadata": {},
   "outputs": [],
   "source": [
    "param = {'max_depth': 2, 'eta': 1, 'silent': 1}"
   ]
  },
  {
   "cell_type": "code",
   "execution_count": 28,
   "metadata": {},
   "outputs": [
    {
     "data": {
      "text/plain": [
       "{'train-Error-mean': [0.0506682, 0.0213034],\n",
       " 'train-Error-std': [0.009200997193782855, 0.0020556122786167634],\n",
       " 'train-rmse-mean': [1.5950724, 2.4426004000000003],\n",
       " 'train-rmse-std': [0.0038675500565603345, 0.07683424711312019],\n",
       " 'test-Error-mean': [0.055731600000000006, 0.021188400000000003],\n",
       " 'test-Error-std': [0.015888666194492227, 0.0036532266614597024],\n",
       " 'test-rmse-mean': [1.5980429999999999, 2.4492819999999997],\n",
       " 'test-rmse-std': [0.012825987899573323, 0.08089986739914967]}"
      ]
     },
     "execution_count": 28,
     "metadata": {},
     "output_type": "execute_result"
    }
   ],
   "source": [
    "xgb.cv(param, dtrain, num_round, nfold = 5, seed = 0, obj = logregobj, feval = evalerror)"
   ]
  }
 ],
 "metadata": {
  "kernelspec": {
   "display_name": "Python 3",
   "language": "python",
   "name": "python3"
  },
  "language_info": {
   "codemirror_mode": {
    "name": "ipython",
    "version": 3
   },
   "file_extension": ".py",
   "mimetype": "text/x-python",
   "name": "python",
   "nbconvert_exporter": "python",
   "pygments_lexer": "ipython3",
   "version": "3.6.1"
  }
 },
 "nbformat": 4,
 "nbformat_minor": 2
}
