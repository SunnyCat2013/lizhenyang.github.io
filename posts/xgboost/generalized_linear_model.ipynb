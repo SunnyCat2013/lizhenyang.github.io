{
 "cells": [
  {
   "cell_type": "code",
   "execution_count": 1,
   "metadata": {},
   "outputs": [],
   "source": [
    "import xgboost as xgb\n",
    "import numpy as np\n",
    "dtrain = xgb.DMatrix('./demo/data/agaricus.txt.train')\n",
    "dtest = xgb.DMatrix('./demo/data/agaricus.txt.test')"
   ]
  },
  {
   "cell_type": "code",
   "execution_count": 2,
   "metadata": {},
   "outputs": [],
   "source": [
    "param = {\n",
    "    'silent': 1,\n",
    "    'objective': 'binary:logistic',\n",
    "    'booster': 'gblinear', # 选择线性模型\n",
    "    'alpha': 0.0001, # L1 正则系数\n",
    "    'lambda': 1 # L2 正则系数\n",
    "}"
   ]
  },
  {
   "cell_type": "code",
   "execution_count": 3,
   "metadata": {},
   "outputs": [],
   "source": [
    "watchlist = [(dtest, 'eval'), (dtrain, 'train')]"
   ]
  },
  {
   "cell_type": "code",
   "execution_count": 4,
   "metadata": {},
   "outputs": [],
   "source": [
    "num_round = 4"
   ]
  },
  {
   "cell_type": "code",
   "execution_count": 5,
   "metadata": {},
   "outputs": [
    {
     "name": "stdout",
     "output_type": "stream",
     "text": [
      "[0]\teval-error:0.114215\ttrain-error:0.104714\n",
      "[1]\teval-error:0.116698\ttrain-error:0.106249\n",
      "[2]\teval-error:0.120422\ttrain-error:0.10671\n",
      "[3]\teval-error:0.121043\ttrain-error:0.107017\n"
     ]
    }
   ],
   "source": [
    "bst = xgb.train(param, dtrain, num_round, watchlist)"
   ]
  },
  {
   "cell_type": "code",
   "execution_count": 6,
   "metadata": {},
   "outputs": [],
   "source": [
    "pred = bst.predict(dtest)"
   ]
  },
  {
   "cell_type": "code",
   "execution_count": 7,
   "metadata": {},
   "outputs": [],
   "source": [
    "label = dtest.get_label()"
   ]
  },
  {
   "cell_type": "code",
   "execution_count": 8,
   "metadata": {},
   "outputs": [
    {
     "name": "stdout",
     "output_type": "stream",
     "text": [
      "Error = 0.121043\n"
     ]
    }
   ],
   "source": [
    "print('Error = %f' % (sum([1 for i in range(len(pred)) if ((pred[i] > 0.5) != label[i])]) / float(len(label))))"
   ]
  },
  {
   "cell_type": "code",
   "execution_count": 9,
   "metadata": {},
   "outputs": [],
   "source": [
    "# print('Error = %f' % (np.sum((pred > 0.5) != label)) / float(len(label))) # 这种先变成一个 str，再执行 /"
   ]
  },
  {
   "cell_type": "code",
   "execution_count": 10,
   "metadata": {},
   "outputs": [
    {
     "name": "stdout",
     "output_type": "stream",
     "text": [
      "Error = 0.121043\n"
     ]
    }
   ],
   "source": [
    "print('Error = %f' % ((np.sum((pred > 0.5) != label)) / float(len(label)))) "
   ]
  },
  {
   "cell_type": "markdown",
   "metadata": {},
   "source": [
    "这个文件学习了创建线性模型和 L1 L2 正则"
   ]
  }
 ],
 "metadata": {
  "kernelspec": {
   "display_name": "Python 3",
   "language": "python",
   "name": "python3"
  },
  "language_info": {
   "codemirror_mode": {
    "name": "ipython",
    "version": 3
   },
   "file_extension": ".py",
   "mimetype": "text/x-python",
   "name": "python",
   "nbconvert_exporter": "python",
   "pygments_lexer": "ipython3",
   "version": "3.6.1"
  }
 },
 "nbformat": 4,
 "nbformat_minor": 2
}
