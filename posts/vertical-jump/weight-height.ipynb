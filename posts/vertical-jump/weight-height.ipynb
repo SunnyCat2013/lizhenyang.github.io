{
 "cells": [
  {
   "cell_type": "code",
   "execution_count": 1,
   "metadata": {},
   "outputs": [],
   "source": [
    "date = '2019-05-06'\n",
    "weight = 82.9 # kg\n",
    "height = 1.84 # m\n",
    "two_fists_height = 2.2 # m\n",
    "current_highest_two_fists_reached = 2.75 # m\n",
    "extra_weight = 0\n",
    "\n",
    "target_height = 3.2 # m"
   ]
  },
  {
   "cell_type": "code",
   "execution_count": 2,
   "metadata": {},
   "outputs": [],
   "source": [
    "def return_extra_weight(weight, two_fists_height, current_highest_two_fists_reached, target_height, g = 10.0):\n",
    "    current_power = power(weight, current_highest_two_fists_reached, two_fists_height)\n",
    "    target_power = power(weight, target_height, two_fists_height)\n",
    "    extra_weight = (target_power - current_power) / (g * (current_highest_two_fists_reached - two_fists_height))\n",
    "    return extra_weight"
   ]
  },
  {
   "cell_type": "code",
   "execution_count": 3,
   "metadata": {},
   "outputs": [],
   "source": [
    "def power(m, H, h, g = 10):\n",
    "    # returna J (Unit)\n",
    "    J = m * g * (H - h)\n",
    "    return J"
   ]
  },
  {
   "cell_type": "code",
   "execution_count": null,
   "metadata": {},
   "outputs": [],
   "source": []
  },
  {
   "cell_type": "code",
   "execution_count": 4,
   "metadata": {},
   "outputs": [],
   "source": [
    "current_power = power(weight, current_highest_two_fists_reached, two_fists_height)\n",
    "target_power = power(weight, target_height, two_fists_height)"
   ]
  },
  {
   "cell_type": "code",
   "execution_count": 5,
   "metadata": {},
   "outputs": [
    {
     "name": "stdout",
     "output_type": "stream",
     "text": [
      "Current power: 455.95\n",
      "Target power: 829.0\n"
     ]
    }
   ],
   "source": [
    "print 'Current power:', current_power\n",
    "print 'Target power:', target_power"
   ]
  },
  {
   "cell_type": "code",
   "execution_count": 6,
   "metadata": {},
   "outputs": [
    {
     "name": "stdout",
     "output_type": "stream",
     "text": [
      "Extra weight for current highest reached poirnt:  67.8272727273\n"
     ]
    }
   ],
   "source": [
    "print 'Extra weight for current highest reached poirnt: ', return_extra_weight(weight, two_fists_height, current_highest_two_fists_reached, target_height)"
   ]
  },
  {
   "cell_type": "code",
   "execution_count": null,
   "metadata": {},
   "outputs": [],
   "source": []
  }
 ],
 "metadata": {
  "kernelspec": {
   "display_name": "Python 2",
   "language": "python",
   "name": "python2"
  },
  "language_info": {
   "codemirror_mode": {
    "name": "ipython",
    "version": 2
   },
   "file_extension": ".py",
   "mimetype": "text/x-python",
   "name": "python",
   "nbconvert_exporter": "python",
   "pygments_lexer": "ipython2",
   "version": "2.7.10"
  }
 },
 "nbformat": 4,
 "nbformat_minor": 2
}
