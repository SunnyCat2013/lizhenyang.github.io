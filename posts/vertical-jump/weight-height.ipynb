{
 "cells": [
  {
   "cell_type": "code",
   "execution_count": 1,
   "metadata": {},
   "outputs": [],
   "source": [
    "# const\n",
    "target_height = 3.2 # m\n",
    "height = 1.84 # m\n",
    "two_fists_height = 2.2 # m\n",
    "current_highest_two_fists_reached = 2.75 # m\n",
    "\n",
    "data = [\n",
    "    {\n",
    "        'date': '2019-05-06',\n",
    "        'weight': 82.9, # kg\n",
    "        'extra_weight': 0\n",
    "    },\n",
    "    {\n",
    "        \n",
    "        'date': '2019-05-21',\n",
    "        'weight': 82.75, # kg\n",
    "        'extra_weight': 1.5 # kg\n",
    "\n",
    "    },\n",
    "    {\n",
    "       \n",
    "        'date': '2019-05-22',\n",
    "        'weight': 82.3, # kg\n",
    "        'extra_weight': 85.5 - 82.3# kg\n",
    "\n",
    " \n",
    "    },\n",
    "]\n",
    "\n",
    "\n"
   ]
  },
  {
   "cell_type": "code",
   "execution_count": 2,
   "metadata": {},
   "outputs": [],
   "source": [
    "def return_extra_weight(weight, extra_weight, two_fists_height, current_highest_two_fists_reached, target_height, g = 10.0):\n",
    "    current_power = power(weight + extra_weight, current_highest_two_fists_reached, two_fists_height)\n",
    "    target_power = power(weight, target_height, two_fists_height)\n",
    "    extra_weight = (target_power - current_power) / (g * (current_highest_two_fists_reached - two_fists_height))\n",
    "    return extra_weight"
   ]
  },
  {
   "cell_type": "code",
   "execution_count": 3,
   "metadata": {},
   "outputs": [],
   "source": [
    "def power(m, H, h, g = 10):\n",
    "    # returna J (Unit)\n",
    "    J = m * g * (H - h)\n",
    "    return J"
   ]
  },
  {
   "cell_type": "code",
   "execution_count": null,
   "metadata": {},
   "outputs": [],
   "source": []
  },
  {
   "cell_type": "code",
   "execution_count": 6,
   "metadata": {},
   "outputs": [
    {
     "name": "stdout",
     "output_type": "stream",
     "text": [
      "Current weight: 82.9\n",
      "With extra weight: 82.9\n",
      "Current power: 455.95\n",
      "Target power: 829.0\n",
      "Extra weight for current highest reached poirnt:  67.8272727273\n",
      "\n",
      "Current weight: 82.75\n",
      "With extra weight: 84.25\n",
      "Current power: 463.375\n",
      "Target power: 827.5\n",
      "Extra weight for current highest reached poirnt:  66.2045454545\n",
      "\n",
      "Current weight: 82.3\n",
      "With extra weight: 85.5\n",
      "Current power: 470.25\n",
      "Target power: 823.0\n",
      "Extra weight for current highest reached poirnt:  64.1363636364\n",
      "\n"
     ]
    }
   ],
   "source": [
    "for dat in data:\n",
    "    date = dat['date']\n",
    "    weight = dat['weight']\n",
    "    extra_weight = dat['extra_weight']\n",
    "    current_power = power(weight + extra_weight, current_highest_two_fists_reached, two_fists_height)\n",
    "    target_power = power(weight, target_height, two_fists_height)\n",
    "    print 'Current weight:', weight\n",
    "    print 'With extra weight:', weight + extra_weight\n",
    "    print 'Current power:', current_power\n",
    "    print 'Target power:', target_power\n",
    "    print 'Extra weight for current highest reached poirnt: ', return_extra_weight(weight, extra_weight, two_fists_height, current_highest_two_fists_reached, target_height)\n",
    "    print ''"
   ]
  },
  {
   "cell_type": "code",
   "execution_count": null,
   "metadata": {},
   "outputs": [],
   "source": []
  },
  {
   "cell_type": "code",
   "execution_count": null,
   "metadata": {},
   "outputs": [],
   "source": []
  },
  {
   "cell_type": "code",
   "execution_count": null,
   "metadata": {},
   "outputs": [],
   "source": []
  }
 ],
 "metadata": {
  "kernelspec": {
   "display_name": "Python 2",
   "language": "python",
   "name": "python2"
  },
  "language_info": {
   "codemirror_mode": {
    "name": "ipython",
    "version": 2
   },
   "file_extension": ".py",
   "mimetype": "text/x-python",
   "name": "python",
   "nbconvert_exporter": "python",
   "pygments_lexer": "ipython2",
   "version": "2.7.10"
  }
 },
 "nbformat": 4,
 "nbformat_minor": 2
}
