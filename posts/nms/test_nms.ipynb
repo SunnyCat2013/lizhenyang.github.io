{
 "cells": [
  {
   "cell_type": "code",
   "execution_count": 38,
   "metadata": {},
   "outputs": [],
   "source": [
    "import numpy as np\n",
    "import matplotlib.pyplot as plt\n",
    "from matplotlib.collections import PatchCollection\n",
    "from matplotlib.patches import Rectangle\n",
    "\n",
    "from itertools import cycle\n",
    "cycol = cycle('bgrcmk')\n"
   ]
  },
  {
   "cell_type": "code",
   "execution_count": 39,
   "metadata": {},
   "outputs": [],
   "source": [
    "dets = np.random.rand(3, 5) + [0,0,1,1,0]\n",
    "dets /= 2"
   ]
  },
  {
   "cell_type": "code",
   "execution_count": 40,
   "metadata": {},
   "outputs": [
    {
     "name": "stdout",
     "output_type": "stream",
     "text": [
      "(3,) [ 2.48964781  2.45659948  1.53867802]\n",
      "[2 1 0]\n"
     ]
    },
    {
     "data": {
      "image/png": "[encoded data removed]",
      "text/plain": [
       "<Figure size 432x288 with 1 Axes>"
      ]
     },
     "metadata": {},
     "output_type": "display_data"
    },
    {
     "data": {
      "text/plain": [
       "[2, 1, 0]"
      ]
     },
     "execution_count": 40,
     "metadata": {},
     "output_type": "execute_result"
    }
   ],
   "source": [
    "\n",
    "def py_cpu_nms(dets, thresh):\n",
    "    \"\"\"Pure Python NMS baseline.\"\"\"\n",
    "    \n",
    "    for i in range(dets.shape[0]):\n",
    "        a,b,c,d,e = dets[i]\n",
    "        plt.gca().add_patch(\n",
    "                    plt.Rectangle((a,b),c - a,d - b, facecolor = 'green', fill = False,\n",
    "                                  edgecolor='r', linewidth=3)\n",
    "                    )\n",
    "    x1 = dets[:, 0]\n",
    "    y1 = dets[:, 1]\n",
    "    x2 = dets[:, 2]\n",
    "    y2 = dets[:, 3]\n",
    "    scores = dets[:, 4]\n",
    "\n",
    "    areas = (x2 - x1 + 1) * (y2 - y1 + 1) # n x 1\n",
    "    print areas.shape, areas\n",
    "    order = scores.argsort()[::-1] # n x 1\n",
    "    print order\n",
    "\n",
    "    keep = []\n",
    "    while order.size > 0:\n",
    "        i = order[0]\n",
    "        keep.append(i)\n",
    "        \n",
    "        # 以置信度最高的 x_bottom_left 为标准，找不小于它的\n",
    "        xx1 = np.maximum(x1[i], x1[order[1:]])\n",
    "        \n",
    "        yy1 = np.maximum(y1[i], y1[order[1:]])\n",
    "        xx2 = np.minimum(x2[i], x2[order[1:]])\n",
    "        yy2 = np.minimum(y2[i], y2[order[1:]])\n",
    "        \n",
    "        for i in range(len(xx1)):\n",
    "            plt.gca().add_patch(\n",
    "                    plt.Rectangle((xx1[i],yy1[i]),xx2[i] - xx1[i],yy2[i]- yy1[i], facecolor = 'black', fill = False,\n",
    "                                  edgecolor=cycol.next(), linewidth=3)\n",
    "                    )\n",
    "        # 计算置信度最大的矩形与其它矩形相交的面积\n",
    "        w = np.maximum(0.0, xx2 - xx1 + 1) \n",
    "        h = np.maximum(0.0, yy2 - yy1 + 1)\n",
    "        inter = w * h\n",
    "        \n",
    "        # 计算 Intersection over Union(IoU)\n",
    "        ovr = inter / (areas[i] + areas[order[1:]] - inter)\n",
    "        \n",
    "        # 获得 从 order[1] 开始的所有满足条件的矩形的下标\n",
    "        inds = np.where(ovr <= thresh)[0]\n",
    "        \n",
    "        # 因为 order[0] 已经包含在 keep 里面了，所以 inds 要做一个向右的 1 的偏移。\n",
    "        order = order[inds + 1]\n",
    "\n",
    "        \n",
    "    plt.show()\n",
    "    return keep\n",
    "\n",
    "\n",
    "py_cpu_nms(dets, 1)\n",
    "\n"
   ]
  },
  {
   "cell_type": "code",
   "execution_count": null,
   "metadata": {},
   "outputs": [],
   "source": []
  }
 ],
 "metadata": {
  "kernelspec": {
   "display_name": "Python 2",
   "language": "python",
   "name": "python2"
  },
  "language_info": {
   "codemirror_mode": {
    "name": "ipython",
    "version": 2
   },
   "file_extension": ".py",
   "mimetype": "text/x-python",
   "name": "python",
   "nbconvert_exporter": "python",
   "pygments_lexer": "ipython2",
   "version": "2.7.15"
  }
 },
 "nbformat": 4,
 "nbformat_minor": 2
}
