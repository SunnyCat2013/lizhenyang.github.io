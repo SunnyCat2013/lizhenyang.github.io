{
 "cells": [
  {
   "cell_type": "code",
   "execution_count": 1,
   "metadata": {},
   "outputs": [],
   "source": [
    "import numpy as np"
   ]
  },
  {
   "cell_type": "code",
   "execution_count": 2,
   "metadata": {},
   "outputs": [],
   "source": [
    "x1 = np.random.rand(3, 5) + [0,0,1,1,0]\n"
   ]
  },
  {
   "cell_type": "code",
   "execution_count": 3,
   "metadata": {},
   "outputs": [],
   "source": [
    "x1 = x1 / 2"
   ]
  },
  {
   "cell_type": "code",
   "execution_count": 32,
   "metadata": {},
   "outputs": [
    {
     "name": "stdout",
     "output_type": "stream",
     "text": [
      "(3,) [ 1.89692337  1.90586525  2.27407008]\n",
      "[1 0 2]\n",
      "In while:\n",
      "order: [1 0 2]\n",
      "keep: []\n",
      "[ 0.29776968  0.29776968] [ 0.48417859  0.36367943]\n",
      "[ 0.60571039  0.60571039] [ 0.68653226  0.67812337]\n",
      "inds []\n",
      "order []\n"
     ]
    },
    {
     "data": {
      "image/png": "[encoded data removed]",
      "text/plain": [
       "<Figure size 432x288 with 1 Axes>"
      ]
     },
     "metadata": {},
     "output_type": "display_data"
    },
    {
     "data": {
      "text/plain": [
       "[1]"
      ]
     },
     "execution_count": 32,
     "metadata": {},
     "output_type": "execute_result"
    }
   ],
   "source": [
    "from itertools import cycle\n",
    "cycol = cycle('bgrcmk')\n",
    "def py_cpu_nms(dets, thresh):\n",
    "    \"\"\"Pure Python NMS baseline.\"\"\"\n",
    "    \n",
    "    for i in range(dets.shape[0]):\n",
    "        a,b,c,d,e = dets[i]\n",
    "        plt.gca().add_patch(\n",
    "                    plt.Rectangle((a,b),c - a,d - b, facecolor = 'green', fill = False,\n",
    "                                  edgecolor='r', linewidth=3)\n",
    "                    )\n",
    "    x1 = dets[:, 0]\n",
    "    y1 = dets[:, 1]\n",
    "    x2 = dets[:, 2]\n",
    "    y2 = dets[:, 3]\n",
    "    scores = dets[:, 4]\n",
    "\n",
    "    areas = (x2 - x1 + 1) * (y2 - y1 + 1) # n x 1\n",
    "    print areas.shape, areas\n",
    "    order = scores.argsort()[::-1] # n x 1\n",
    "    print order\n",
    "\n",
    "    keep = []\n",
    "    while order.size > 0:\n",
    "        print 'In while:'\n",
    "        print 'order:', order\n",
    "        print 'keep:', keep\n",
    "        i = order[0]\n",
    "        keep.append(i)\n",
    "        \n",
    "        # 以置信度最高的 x_bottom_left 为标准，找不小于它的\n",
    "        xx1 = np.maximum(x1[i], x1[order[1:]])\n",
    "        \n",
    "        yy1 = np.maximum(y1[i], y1[order[1:]])\n",
    "        xx2 = np.minimum(x2[i], x2[order[1:]])\n",
    "        yy2 = np.minimum(y2[i], y2[order[1:]])\n",
    "        print xx1, yy1\n",
    "        print xx2, yy2\n",
    "        for i in range(len(xx1)):\n",
    "            plt.gca().add_patch(\n",
    "                    plt.Rectangle((xx1[i],yy1[i]),xx2[i] - xx1[i],yy2[i]- yy1[i], facecolor = 'black', fill = False,\n",
    "                                  edgecolor=cycol.next(), linewidth=3)\n",
    "                    )\n",
    "\n",
    "        w = np.maximum(0.0, xx2 - xx1 + 1) \n",
    "        h = np.maximum(0.0, yy2 - yy1 + 1)\n",
    "        inter = w * h\n",
    "        ovr = inter / (areas[i] + areas[order[1:]] - inter)\n",
    "\n",
    "        inds = np.where(ovr <= thresh)[0]\n",
    "        print 'inds', inds\n",
    "        order = order[inds + 1]\n",
    "        print 'order', order\n",
    "        \n",
    "    plt.show()\n",
    "    return keep\n",
    "\n",
    "\n",
    "py_cpu_nms(x1, 0.1)\n",
    "\n"
   ]
  },
  {
   "cell_type": "code",
   "execution_count": 15,
   "metadata": {},
   "outputs": [
    {
     "data": {
      "text/plain": [
       "array([ 0.29776968,  0.29776968])"
      ]
     },
     "execution_count": 15,
     "metadata": {},
     "output_type": "execute_result"
    }
   ],
   "source": [
    "np.maximum(0.297769678561,\n",
    "           [ 0.16525701, 0.00252415])"
   ]
  },
  {
   "cell_type": "code",
   "execution_count": 5,
   "metadata": {},
   "outputs": [],
   "source": [
    "import numpy as np\n",
    "import matplotlib.pyplot as plt\n",
    "from matplotlib.collections import PatchCollection\n",
    "from matplotlib.patches import Rectangle\n"
   ]
  },
  {
   "cell_type": "code",
   "execution_count": 6,
   "metadata": {},
   "outputs": [
    {
     "name": "stdout",
     "output_type": "stream",
     "text": [
      "0.165257008189 0.484178587779 0.742932033878 0.686532263516\n",
      "0.297769678561 0.258288936413 0.6057103941 0.715438508241\n",
      "0.00252415387588 0.363679429931 0.732586589767 0.678123365814\n"
     ]
    },
    {
     "data": {
      "image/png": "[encoded data removed]",
      "text/plain": [
       "<Figure size 432x288 with 1 Axes>"
      ]
     },
     "metadata": {},
     "output_type": "display_data"
    }
   ],
   "source": [
    "for i in range(x1.shape[0]):\n",
    "    a,b,c,d,e = x1[i]\n",
    "    print a, b, c, d\n",
    "\n",
    "    plt.gca().add_patch(\n",
    "                plt.Rectangle((a,b),c - a,d - b, facecolor = 'red', fill = False,\n",
    "                              edgecolor='r', linewidth=3)\n",
    "                )\n",
    "plt.show()"
   ]
  },
  {
   "cell_type": "code",
   "execution_count": 7,
   "metadata": {},
   "outputs": [
    {
     "name": "stdout",
     "output_type": "stream",
     "text": [
      "0.297769678561 0.258288936413 0.6057103941 0.715438508241\n"
     ]
    },
    {
     "data": {
      "image/png": "[encoded data removed]",
      "text/plain": [
       "<Figure size 432x288 with 1 Axes>"
      ]
     },
     "metadata": {},
     "output_type": "display_data"
    }
   ],
   "source": [
    "a,b,c,d,e = x1[1]\n",
    "print a, b, c, d\n",
    "\n",
    "plt.gca().add_patch(\n",
    "            plt.Rectangle((a,b),c - a,d - b, facecolor = 'red', fill = False,\n",
    "                          edgecolor='r', linewidth=3)\n",
    "            )\n",
    "plt.show()"
   ]
  },
  {
   "cell_type": "code",
   "execution_count": null,
   "metadata": {},
   "outputs": [],
   "source": []
  }
 ],
 "metadata": {
  "kernelspec": {
   "display_name": "Python 2",
   "language": "python",
   "name": "python2"
  },
  "language_info": {
   "codemirror_mode": {
    "name": "ipython",
    "version": 2
   },
   "file_extension": ".py",
   "mimetype": "text/x-python",
   "name": "python",
   "nbconvert_exporter": "python",
   "pygments_lexer": "ipython2",
   "version": "2.7.15"
  }
 },
 "nbformat": 4,
 "nbformat_minor": 2
}
