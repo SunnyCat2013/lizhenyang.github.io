{
 "cells": [
  {
   "cell_type": "markdown",
   "metadata": {},
   "source": [
    "# 使用 python 自己写一个 决策树\n",
    "很多复杂的学习方法，明白了其基础之后，一切就变得简单、易懂，并且符合直觉。\n",
    "我今天打算手写一个决策树，或者说是“分类回归树”。"
   ]
  },
  {
   "cell_type": "markdown",
   "metadata": {},
   "source": [
    "## 参考\n",
    "https://machinelearningmastery.com/implement-decision-tree-algorithm-scratch-python/\n"
   ]
  },
  {
   "cell_type": "markdown",
   "metadata": {},
   "source": [
    "决策树是一种强大的预测方法，在工业界的数据分析和决策中非常好用。\n",
    "它受欢迎的一个主要原因是，它最终的模型就像给你写出了一堆 `if else` 的判断条件。\n",
    "这样，无论通过模型获得怎样的结果，都可以通过判断条件进行反推。\n",
    "因为这个优势的存在，决策树就可以帮助我们这些从业人员，更好地分析数据。\n",
    "\n",
    "同时决策树还是其它先进的集成学习方法（advanced ensemble methods）的基石。\n",
    "如，bagging, random forests 和 gradient boosting。"
   ]
  },
  {
   "cell_type": "markdown",
   "metadata": {},
   "source": [
    "## 待解决的几个总是\n",
    "- 如何评估分裂点。知道如何评估之后，就可以找到它了。\n",
    "- How to arrange splits into a decision tree structure.\n",
    "- 怎么在一个实际问题中使用决策树"
   ]
  },
  {
   "cell_type": "markdown",
   "metadata": {},
   "source": [
    "## 简介\n",
    "Classification and Regression Tree(CART) 是对决策树的一个比较现代的叫法。\n",
    "决策树用到的模型是二叉树这种数据结构，每个结点有 0 个，或者 1 个，或者 2 个子结点。\n",
    "\n",
    "每个结点，代表了一个输入变量和这个变量的分割点，叶结点包含一个输出。\n",
    "\n",
    "决策树一旦创建，新的数据就可以通过根结点，经过各种判断条件，最终到叶结点，并把叶结点表示的结果作为输出。"
   ]
  },
  {
   "cell_type": "markdown",
   "metadata": {},
   "source": [
    "### 分割时的损失函数\n",
    "- *回归模型的损失函数:* 使用最小方差作为损失函数\n",
    "- *分类模型损失函数:* 使用 Gini 损失函数，Gini Score 是用来衡量一个子结点中包含类型的混乱程度的，越混乱 Gini Score 越大，分类效果自然是就越差。"
   ]
  },
  {
   "cell_type": "markdown",
   "metadata": {},
   "source": [
    "### 用来做测试的数据 Banknote Dataset\n",
    "Banknote Dataset 给出了一些用来描述钞票图片的数据，并用这些数据对钞票的真伪进行判断。\n",
    "\n",
    "这个数据集饮食 1372 个样本，每行有 5 个数值特征。\n",
    "这个任务是一个二分类任务。\n",
    "\n",
    "特征描述如下：\n",
    "```\n",
    "1. 图像的小波变换方差（连续数值）\n",
    "2. 图像的小波变换偏度(skewness)（连续数值）\n",
    "3. 图像的小波变换峭度(kurtosis)（连续数值）\n",
    "4. 图像的熵（连续数值）\n",
    "5. 样本的类别（整数）\n",
    "```\n",
    "\n",
    "数据示例如下：\n",
    "\n",
    "```\n",
    "3.6216,8.6661,-2.8073,-0.44699,0\n",
    "4.5459,8.1674,-2.4586,-1.4621,0\n",
    "3.866,-2.6383,1.9242,0.10645,0\n",
    "3.4566,9.5228,-4.0112,-3.5944,0\n",
    "0.32924,-4.4552,4.5718,-0.9888,0\n",
    "4.3684,9.6718,-3.9606,-3.1625,0\n",
    "```\n",
    "\n"
   ]
  },
  {
   "cell_type": "markdown",
   "metadata": {},
   "source": [
    "> 未理解问题\n",
    "Zero Rule Algorithm\n",
    "\n",
    "> Using the Zero Rule Algorithm to predict the most common class value, the baseline accuracy on the problem is about 50%.\n",
    "这个意思好像是说，就按大多数的类型作为全部的类别，进而得到分类正确率。并用它作为 baseline."
   ]
  },
  {
   "cell_type": "markdown",
   "metadata": {},
   "source": [
    "#### 下载\n",
    "[banknote authentication Data Set](http://archive.ics.uci.edu/ml/datasets/banknote+authentication)"
   ]
  },
  {
   "cell_type": "code",
   "execution_count": 3,
   "metadata": {},
   "outputs": [],
   "source": [
    "banknote_authentication = './data_banknote_authentication.csv'"
   ]
  },
  {
   "cell_type": "markdown",
   "metadata": {},
   "source": [
    "## 目录\n",
    "下面分五部分分别实现\n",
    "1. Gini Index\n",
    "2. Create Split\n",
    "3. Build a Tree\n",
    "4. Make a Prediction\n",
    "5. Banknote Case Study"
   ]
  },
  {
   "cell_type": "markdown",
   "metadata": {},
   "source": [
    "# Gini Index"
   ]
  },
  {
   "cell_type": "code",
   "execution_count": 43,
   "metadata": {},
   "outputs": [],
   "source": [
    "def gini_score(groups, classes):\n",
    "    '''\n",
    "    row = [col1, col2, col3, col4, class]\n",
    "    group: [row, row, ..., row]\n",
    "    groups: [group, group, ..., group]\n",
    "        \n",
    "    classes: [0, 1]\n",
    "    '''\n",
    "    # weight = sum(group) / sum(sum(group))\n",
    "    # Gini index = sum(sum(one_class) / sum(group))\n",
    "    instances_num = sum([len(group) for group in groups])\n",
    "    gini_score = 0.0\n",
    "    for group in groups:\n",
    "        group_num = len(group)\n",
    "        if group_num == 0:\n",
    "            continue\n",
    "        gini_index = 1.0\n",
    "        for c in classes:\n",
    "            c_num = 0\n",
    "            for i in group:\n",
    "                if c == i[-1]:\n",
    "                    c_num += 1\n",
    "            c_p = c_num / group_num # group_num == 0?\n",
    "            gini_index = gini_index - c_p * c_p\n",
    "        group_gini_score = gini_index * group_num / instances_num\n",
    "        gini_score += group_gini_score\n",
    "    return gini_score"
   ]
  },
  {
   "cell_type": "code",
   "execution_count": 27,
   "metadata": {},
   "outputs": [],
   "source": [
    "row1 = [0,0,0,0,1]\n",
    "row2 = [0,0,0,0,0]\n",
    "group1 = [row1, row2]\n",
    "row3 = [0,0,0,0,0]\n",
    "row4 = [0,0,0,0,1]\n",
    "row5 = [0,0,0,0,1]\n",
    "group2 = [row3, row4, row5]\n",
    "\n",
    "test_data_for_gini_index = [group1, group2]\n",
    "\n",
    "classes = [0, 1]"
   ]
  },
  {
   "cell_type": "code",
   "execution_count": 28,
   "metadata": {},
   "outputs": [
    {
     "data": {
      "text/plain": [
       "0.4666666666666667"
      ]
     },
     "execution_count": 28,
     "metadata": {},
     "output_type": "execute_result"
    }
   ],
   "source": [
    "gini_score(test_data_for_gini_index, classes)"
   ]
  },
  {
   "cell_type": "markdown",
   "metadata": {},
   "source": [
    "### 博客里面的函数对比测试\n"
   ]
  },
  {
   "cell_type": "code",
   "execution_count": 31,
   "metadata": {},
   "outputs": [
    {
     "name": "stdout",
     "output_type": "stream",
     "text": [
      "0.5\n",
      "0.0\n",
      "0.5\n",
      "0.0\n"
     ]
    }
   ],
   "source": [
    "# Calculate the Gini index for a split dataset\n",
    "def gini_index(groups, classes):\n",
    "\t# count all samples at split point\n",
    "\tn_instances = float(sum([len(group) for group in groups]))\n",
    "\t# sum weighted Gini index for each group\n",
    "\tgini = 0.0\n",
    "\tfor group in groups:\n",
    "\t\tsize = float(len(group))\n",
    "\t\t# avoid divide by zero\n",
    "\t\tif size == 0:\n",
    "\t\t\tcontinue\n",
    "\t\tscore = 0.0\n",
    "\t\t# score the group based on the score for each class\n",
    "\t\tfor class_val in classes:\n",
    "\t\t\tp = [row[-1] for row in group].count(class_val) / size\n",
    "\t\t\tscore += p * p\n",
    "\t\t# weight the group score by its relative size\n",
    "\t\tgini += (1.0 - score) * (size / n_instances)\n",
    "\treturn gini\n",
    "\n",
    "# test Gini values\n",
    "groups1 = [[[1, 1], [1, 0]], [[1, 1], [1, 0]]]\n",
    "groups2 = [[[1, 0], [1, 0]], [[1, 1], [1, 1]]]\n",
    "classes = [0, 1]\n",
    "print(gini_index(groups1, classes))\n",
    "print(gini_index(groups2, classes))\n",
    "print(gini_score(groups1, classes))\n",
    "print(gini_score(groups2, classes))"
   ]
  },
  {
   "cell_type": "markdown",
   "metadata": {},
   "source": [
    "# Create Split"
   ]
  },
  {
   "cell_type": "markdown",
   "metadata": {},
   "source": [
    "在某个维度上，对样本进行二分类"
   ]
  },
  {
   "cell_type": "code",
   "execution_count": 33,
   "metadata": {},
   "outputs": [],
   "source": [
    "def split_group(index, split_value, group):\n",
    "    less = list()\n",
    "    big = list()\n",
    "    for row in group:\n",
    "        if row[index] < split_value:\n",
    "            less.append(row)\n",
    "        else:\n",
    "            big.append(row)\n",
    "         \n",
    "    return less, big"
   ]
  },
  {
   "cell_type": "code",
   "execution_count": 37,
   "metadata": {},
   "outputs": [
    {
     "name": "stdout",
     "output_type": "stream",
     "text": [
      "[[1, 0]] [[1, 1]]\n"
     ]
    }
   ],
   "source": [
    "# test \n",
    "l, b = split_group(1, 0.5, [[1, 1], [1, 0]])\n",
    "print(l, b)"
   ]
  },
  {
   "cell_type": "markdown",
   "metadata": {},
   "source": [
    "使用穷举和贪心算法进行处理（This is an exhaustive and greedy algorithm.）"
   ]
  },
  {
   "cell_type": "markdown",
   "metadata": {},
   "source": [
    "> We will use a dictionary to represent a node in the decision tree as we can store data by name. When selecting the best split and using it as a new node for the tree we will store the index of the chosen attribute, the value of that attribute by which to split and the two groups of data split by the chosen split point."
   ]
  },
  {
   "cell_type": "code",
   "execution_count": 38,
   "metadata": {},
   "outputs": [
    {
     "name": "stdout",
     "output_type": "stream",
     "text": [
      "inf\n"
     ]
    }
   ],
   "source": [
    "import math\n",
    "print(math.inf)"
   ]
  },
  {
   "cell_type": "code",
   "execution_count": null,
   "metadata": {},
   "outputs": [],
   "source": []
  },
  {
   "cell_type": "code",
   "execution_count": 108,
   "metadata": {},
   "outputs": [],
   "source": [
    "import math\n",
    "# 找到最佳分裂特征点，并分裂\n",
    "def get_split(group):\n",
    "    best_index = 0\n",
    "    best_split_value = 0\n",
    "    best_gini = math.inf\n",
    "    best_groups = None\n",
    "    classes = list(set([row[-1] for row in group]))\n",
    "    for i in range(len(group[0]) - 1): # minus 1, because the last value is label\n",
    "        tem_split_values = list(set([row[i] for row in group]))\n",
    "        for split_value in tem_split_values:\n",
    "            groups = split_group(i, split_value, group)\n",
    "            gini = gini_score(groups, classes)\n",
    "            \n",
    "            #print('X%d < %.3f Gini=%.3f' % ((i + 1), split_value, gini))\n",
    "            if gini < best_gini:\n",
    "                best_gini = gini\n",
    "                best_index = i\n",
    "                best_split_value = split_value\n",
    "                best_groups = groups\n",
    "    return {\n",
    "        'index': best_index,\n",
    "        'split_value': best_split_value,\n",
    "        'groups': best_groups\n",
    "    }  "
   ]
  },
  {
   "cell_type": "code",
   "execution_count": 51,
   "metadata": {},
   "outputs": [
    {
     "name": "stdout",
     "output_type": "stream",
     "text": [
      "X1 < 1.729 Gini=0.500\n",
      "X1 < 2.771 Gini=0.444\n",
      "X1 < 3.961 Gini=0.167\n",
      "X1 < 3.678 Gini=0.286\n",
      "X1 < 2.999 Gini=0.375\n",
      "X1 < 6.642 Gini=0.000\n",
      "X1 < 7.498 Gini=0.286\n",
      "X1 < 7.445 Gini=0.167\n",
      "X1 < 9.002 Gini=0.375\n",
      "X1 < 10.125 Gini=0.444\n",
      "X2 < 0.477 Gini=0.500\n",
      "X2 < 1.785 Gini=0.500\n",
      "X2 < 2.813 Gini=0.320\n",
      "X2 < 2.620 Gini=0.417\n",
      "X2 < 1.170 Gini=0.444\n",
      "X2 < 2.209 Gini=0.476\n",
      "X2 < 3.163 Gini=0.167\n",
      "X2 < 3.339 Gini=0.444\n",
      "X2 < 3.235 Gini=0.286\n",
      "X2 < 3.320 Gini=0.375\n",
      "Split: [X1 < 6.642]\n"
     ]
    }
   ],
   "source": [
    "group = [[2.771244718,1.784783929,0],\n",
    "    [1.728571309,1.169761413,0],\n",
    "    [3.678319846,2.81281357,0],\n",
    "    [3.961043357,2.61995032,0],\n",
    "    [2.999208922,2.209014212,0],\n",
    "    [7.497545867,3.162953546,1],\n",
    "    [9.00220326,3.339047188,1],\n",
    "    [7.444542326,0.476683375,1],\n",
    "    [10.12493903,3.234550982,1],\n",
    "    [6.642287351,3.319983761,1]]\n",
    "split = get_split(group)\n",
    "print('Split: [X%d < %.3f]' % ((split['index']+1), split['split_value']))\n"
   ]
  },
  {
   "cell_type": "code",
   "execution_count": 47,
   "metadata": {},
   "outputs": [
    {
     "name": "stdout",
     "output_type": "stream",
     "text": [
      "{'index': 0, 'split_value': 6.642287351, 'groups': ([[2.771244718, 1.784783929, 0], [1.728571309, 1.169761413, 0], [3.678319846, 2.81281357, 0], [3.961043357, 2.61995032, 0], [2.999208922, 2.209014212, 0]], [[7.497545867, 3.162953546, 1], [9.00220326, 3.339047188, 1], [7.444542326, 0.476683375, 1], [10.12493903, 3.234550982, 1], [6.642287351, 3.319983761, 1]])}\n"
     ]
    }
   ],
   "source": [
    "print(split)"
   ]
  },
  {
   "cell_type": "markdown",
   "metadata": {},
   "source": [
    "其实可以看出，每次查找的点都不一定是全局最优的，也没有一个全局最优函数。"
   ]
  },
  {
   "cell_type": "markdown",
   "metadata": {},
   "source": [
    "# Build a Tree"
   ]
  },
  {
   "cell_type": "markdown",
   "metadata": {},
   "source": [
    "创建一个树的三个过程：\n",
    "1. 找到终止结点\n",
    "2. 递归分裂\n",
    "3. 创建一个树"
   ]
  },
  {
   "cell_type": "markdown",
   "metadata": {},
   "source": [
    "## 停止条件\n",
    "常见的停止条件有两种\n",
    "1. 一个划分里面的样本个数少于某个值的时候停止。分的太细容易过拟合。\n",
    "2. 当树的深度大于某个值的时候停止（xgboost 里面默认的就是这个）。分的太深容易过拟合。\n",
    "\n",
    "其实这两个异曲同工，一个是深度，一个是广度。\n",
    "\n",
    "一旦找到终止结点，这个结点将用于做最终的预测。"
   ]
  },
  {
   "cell_type": "code",
   "execution_count": 88,
   "metadata": {},
   "outputs": [],
   "source": [
    "# Create a terminal node value, find the majority class and use it as the label or value.\n",
    "def to_terminal(group):\n",
    "    outcomes = [row[-1] for row in group]\n",
    "    return max(set(outcomes), key=outcomes.count) # 返回出现次数最多的值"
   ]
  },
  {
   "cell_type": "code",
   "execution_count": 76,
   "metadata": {},
   "outputs": [
    {
     "data": {
      "text/plain": [
       "0"
      ]
     },
     "execution_count": 76,
     "metadata": {},
     "output_type": "execute_result"
    }
   ],
   "source": [
    "to_terminal(group)"
   ]
  },
  {
   "cell_type": "code",
   "execution_count": 77,
   "metadata": {},
   "outputs": [
    {
     "data": {
      "text/plain": [
       "2"
      ]
     },
     "execution_count": 77,
     "metadata": {},
     "output_type": "execute_result"
    }
   ],
   "source": [
    "outcomes = [1,2,2,2]\n",
    "max(set(outcomes), key=outcomes.count) # "
   ]
  },
  {
   "cell_type": "code",
   "execution_count": 78,
   "metadata": {},
   "outputs": [
    {
     "data": {
      "text/plain": [
       "{1, 2}"
      ]
     },
     "execution_count": 78,
     "metadata": {},
     "output_type": "execute_result"
    }
   ],
   "source": [
    "set(outcomes)"
   ]
  },
  {
   "cell_type": "code",
   "execution_count": 79,
   "metadata": {},
   "outputs": [
    {
     "data": {
      "text/plain": [
       "3"
      ]
     },
     "execution_count": 79,
     "metadata": {},
     "output_type": "execute_result"
    }
   ],
   "source": [
    "outcomes.count(2)"
   ]
  },
  {
   "cell_type": "code",
   "execution_count": null,
   "metadata": {},
   "outputs": [],
   "source": []
  },
  {
   "cell_type": "code",
   "execution_count": null,
   "metadata": {},
   "outputs": [],
   "source": []
  },
  {
   "cell_type": "markdown",
   "metadata": {},
   "source": [
    "## 递归分裂"
   ]
  },
  {
   "cell_type": "code",
   "execution_count": 115,
   "metadata": {},
   "outputs": [],
   "source": [
    "def split(node, max_depth, min_size, depth):\n",
    "    left, right = node['groups']\n",
    "    del(node['groups'])\n",
    "    ##\n",
    "    if not left or not right:\n",
    "        node['left'] = node['right'] = to_terminal(left + right)\n",
    "        return\n",
    "    ##\n",
    "    if depth >= max_depth:\n",
    "        node['left'] = to_terminal(left)\n",
    "        node['right'] = to_terminal(right)\n",
    "        return \n",
    "    \n",
    "    if len(left) < min_size:\n",
    "        node['left'] = to_terminal(left)\n",
    "    else:\n",
    "        node['left'] = get_split(left)\n",
    "        split(node['left'], max_depth, min_size, depth + 1)\n",
    "    \n",
    "    if len(right) < min_size:\n",
    "        node['right'] = to_terminal(right)\n",
    "    else:\n",
    "        node['right'] = get_split(right)\n",
    "        split(node['right'], max_depth, min_size, depth + 1)\n",
    "    "
   ]
  },
  {
   "cell_type": "markdown",
   "metadata": {},
   "source": [
    "## 开始创建树"
   ]
  },
  {
   "cell_type": "code",
   "execution_count": 83,
   "metadata": {},
   "outputs": [
    {
     "name": "stdout",
     "output_type": "stream",
     "text": [
      "X1 < 1.729 Gini=0.500\n",
      "X1 < 2.771 Gini=0.444\n",
      "X1 < 3.961 Gini=0.167\n",
      "X1 < 3.678 Gini=0.286\n",
      "X1 < 2.999 Gini=0.375\n",
      "X1 < 6.642 Gini=0.000\n",
      "X1 < 7.498 Gini=0.286\n",
      "X1 < 7.445 Gini=0.167\n",
      "X1 < 9.002 Gini=0.375\n",
      "X1 < 10.125 Gini=0.444\n",
      "X2 < 0.477 Gini=0.500\n",
      "X2 < 1.785 Gini=0.500\n",
      "X2 < 2.813 Gini=0.320\n",
      "X2 < 2.620 Gini=0.417\n",
      "X2 < 1.170 Gini=0.444\n",
      "X2 < 2.209 Gini=0.476\n",
      "X2 < 3.163 Gini=0.167\n",
      "X2 < 3.339 Gini=0.444\n",
      "X2 < 3.235 Gini=0.286\n",
      "X2 < 3.320 Gini=0.375\n",
      "X1 < 1.729 Gini=0.000\n",
      "X1 < 2.771 Gini=0.000\n",
      "X1 < 3.961 Gini=0.000\n",
      "X1 < 3.678 Gini=0.000\n",
      "X1 < 2.999 Gini=0.000\n",
      "X2 < 1.785 Gini=0.000\n",
      "X2 < 2.813 Gini=0.000\n",
      "X2 < 2.620 Gini=0.000\n",
      "X2 < 1.170 Gini=0.000\n",
      "X2 < 2.209 Gini=0.000\n",
      "X1 < 6.642 Gini=0.000\n",
      "X1 < 7.445 Gini=0.000\n",
      "X1 < 7.498 Gini=0.000\n",
      "X1 < 9.002 Gini=0.000\n",
      "X1 < 10.125 Gini=0.000\n",
      "X2 < 0.477 Gini=0.000\n",
      "X2 < 3.339 Gini=0.000\n",
      "X2 < 3.320 Gini=0.000\n",
      "X2 < 3.163 Gini=0.000\n",
      "X2 < 3.235 Gini=0.000\n"
     ]
    }
   ],
   "source": [
    "root = get_split(group)\n",
    "split(root, 2, 1, 1)"
   ]
  },
  {
   "cell_type": "code",
   "execution_count": 84,
   "metadata": {},
   "outputs": [
    {
     "data": {
      "text/plain": [
       "{'index': 0,\n",
       " 'split_value': 6.642287351,\n",
       " 'left': {'index': 0, 'split_value': 1.728571309, 'left': 0, 'right': 0},\n",
       " 'right': {'index': 0, 'split_value': 6.642287351, 'left': 1, 'right': 1}}"
      ]
     },
     "execution_count": 84,
     "metadata": {},
     "output_type": "execute_result"
    }
   ],
   "source": [
    "root"
   ]
  },
  {
   "cell_type": "code",
   "execution_count": 85,
   "metadata": {},
   "outputs": [],
   "source": [
    "def build_tree(train_group, max_depth, min_size):\n",
    "    root = get_split(train_group)\n",
    "    split(root, max_depth, min_size, 1)\n",
    "    return root"
   ]
  },
  {
   "cell_type": "code",
   "execution_count": 86,
   "metadata": {},
   "outputs": [],
   "source": [
    "def print_tree(node, depth = 0):\n",
    "    if isinstance(node, dict):\n",
    "        print('%s[X%d < %.3f]' % (depth*' ', node['index'] + 1, node['split_value']))\n",
    "        print_tree(node['left'], depth + 1)\n",
    "        print_tree(node['right'], depth + 1)\n",
    "    else:\n",
    "        print('%s%.3f' % (depth*' ', node))"
   ]
  },
  {
   "cell_type": "code",
   "execution_count": 89,
   "metadata": {},
   "outputs": [
    {
     "name": "stdout",
     "output_type": "stream",
     "text": [
      "X1 < 1.729 Gini=0.500\n",
      "X1 < 2.771 Gini=0.444\n",
      "X1 < 3.961 Gini=0.167\n",
      "X1 < 3.678 Gini=0.286\n",
      "X1 < 2.999 Gini=0.375\n",
      "X1 < 6.642 Gini=0.000\n",
      "X1 < 7.498 Gini=0.286\n",
      "X1 < 7.445 Gini=0.167\n",
      "X1 < 9.002 Gini=0.375\n",
      "X1 < 10.125 Gini=0.444\n",
      "X2 < 0.477 Gini=0.500\n",
      "X2 < 1.785 Gini=0.500\n",
      "X2 < 2.813 Gini=0.320\n",
      "X2 < 2.620 Gini=0.417\n",
      "X2 < 1.170 Gini=0.444\n",
      "X2 < 2.209 Gini=0.476\n",
      "X2 < 3.163 Gini=0.167\n",
      "X2 < 3.339 Gini=0.444\n",
      "X2 < 3.235 Gini=0.286\n",
      "X2 < 3.320 Gini=0.375\n",
      "X1 < 1.729 Gini=0.000\n",
      "X1 < 2.771 Gini=0.000\n",
      "X1 < 3.961 Gini=0.000\n",
      "X1 < 3.678 Gini=0.000\n",
      "X1 < 2.999 Gini=0.000\n",
      "X2 < 1.785 Gini=0.000\n",
      "X2 < 2.813 Gini=0.000\n",
      "X2 < 2.620 Gini=0.000\n",
      "X2 < 1.170 Gini=0.000\n",
      "X2 < 2.209 Gini=0.000\n",
      "X1 < 6.642 Gini=0.000\n",
      "X1 < 7.445 Gini=0.000\n",
      "X1 < 7.498 Gini=0.000\n",
      "X1 < 9.002 Gini=0.000\n",
      "X1 < 10.125 Gini=0.000\n",
      "X2 < 0.477 Gini=0.000\n",
      "X2 < 3.339 Gini=0.000\n",
      "X2 < 3.320 Gini=0.000\n",
      "X2 < 3.163 Gini=0.000\n",
      "X2 < 3.235 Gini=0.000\n",
      "[X1 < 6.642]\n",
      " [X1 < 1.729]\n",
      "  0.000\n",
      "  0.000\n",
      " [X1 < 6.642]\n",
      "  1.000\n",
      "  1.000\n"
     ]
    }
   ],
   "source": [
    "dataset = [[2.771244718,1.784783929,0],\n",
    "    [1.728571309,1.169761413,0],\n",
    "    [3.678319846,2.81281357,0],\n",
    "    [3.961043357,2.61995032,0],\n",
    "    [2.999208922,2.209014212,0],\n",
    "    [7.497545867,3.162953546,1],\n",
    "    [9.00220326,3.339047188,1],\n",
    "    [7.444542326,0.476683375,1],\n",
    "    [10.12493903,3.234550982,1],\n",
    "    [6.642287351,3.319983761,1]]\n",
    "tree = build_tree(dataset, 2, 1)\n",
    "print_tree(tree)\n"
   ]
  },
  {
   "cell_type": "markdown",
   "metadata": {},
   "source": [
    "# 测试"
   ]
  },
  {
   "cell_type": "code",
   "execution_count": 90,
   "metadata": {},
   "outputs": [],
   "source": [
    "file = 'data_banknote_authentication.csv'"
   ]
  },
  {
   "cell_type": "code",
   "execution_count": 91,
   "metadata": {},
   "outputs": [],
   "source": [
    "from csv import reader"
   ]
  },
  {
   "cell_type": "code",
   "execution_count": 92,
   "metadata": {},
   "outputs": [],
   "source": [
    "def load_csv(filename):\n",
    "    with open(filename, 'r') as inf:\n",
    "        lines = reader(inf)\n",
    "        dataset = list(lines)\n",
    "        return dataset"
   ]
  },
  {
   "cell_type": "code",
   "execution_count": 93,
   "metadata": {},
   "outputs": [],
   "source": [
    "def str_column_to_float(dataset, column):\n",
    "    for row in dataset:\n",
    "        row[column] = float(row[column].strip())"
   ]
  },
  {
   "cell_type": "code",
   "execution_count": 104,
   "metadata": {},
   "outputs": [],
   "source": [
    "# Split a dataset into k folds\n",
    "# CART on the Bank Note dataset\n",
    "from random import seed\n",
    "from random import randrange\n",
    "def cross_validation_split(dataset, n_folds):\n",
    "    dataset_split = list()\n",
    "    dataset_copy = list(dataset)\n",
    "    fold_size = int(len(dataset) / n_folds)\n",
    "    for i in range(n_folds):\n",
    "        fold = list()\n",
    "        while len(fold) < fold_size:\n",
    "            index = randrange(len(dataset_copy))\n",
    "            fold.append(dataset_copy.pop(index))\n",
    "        dataset_split.append(fold)\n",
    "    return dataset_split"
   ]
  },
  {
   "cell_type": "code",
   "execution_count": 95,
   "metadata": {},
   "outputs": [],
   "source": [
    "# Calculate accuracy percentage\n",
    "def accuracy_metric(actual, predicted):\n",
    "    correct = 0\n",
    "    for i in range(len(actual)):\n",
    "        if actual[i] == predicted[i]:\n",
    "            correct += 1\n",
    "    return correct / float(len(actual)) * 100.0"
   ]
  },
  {
   "cell_type": "code",
   "execution_count": 110,
   "metadata": {},
   "outputs": [],
   "source": [
    "# Evaluate an algorithm using a cross validation split\n",
    "def evaluate_algorithm(dataset, algorithm, n_folds, *args):\n",
    "    folds = cross_validation_split(dataset, n_folds)\n",
    "    scores = list()\n",
    "    for fold in folds:\n",
    "        train_set = list(folds)\n",
    "        train_set.remove(fold)\n",
    "        train_set = sum(train_set, [])\n",
    "        test_set = list()\n",
    "        for row in fold:\n",
    "            row_copy = list(row)\n",
    "            test_set.append(row_copy)\n",
    "            row_copy[-1] = None\n",
    "            \n",
    "            predicted = algorithm(train_set, test_set, *args)\n",
    "            print('length: predicted', len(predicted))\n",
    "            actual = [row[-1] for row in fold]\n",
    "            accuracy = accuracy_metric(actual, predicted)\n",
    "            scores.append(accuracy)\n",
    "        return scores"
   ]
  },
  {
   "cell_type": "code",
   "execution_count": 97,
   "metadata": {},
   "outputs": [],
   "source": [
    "# Prediction\n",
    "def predict(node, row):\n",
    "    \n",
    "    if isinstance(node, dict):\n",
    "        index = node['index']\n",
    "        split_value = node['split_value']\n",
    "        if row[index] < split_value:\n",
    "            return predict(node['left'], row)\n",
    "        else:\n",
    "            return predict(node['right'], row)\n",
    "    else:\n",
    "        return node"
   ]
  },
  {
   "cell_type": "code",
   "execution_count": 106,
   "metadata": {},
   "outputs": [],
   "source": [
    "# Classification and Regression Tree Algorithm\n",
    "def decision_tree(train, test, max_depth, min_size):\n",
    "    tree = build_tree(train, max_depth, min_size)\n",
    "    predictions = list()\n",
    "    for row in test:\n",
    "        prediction = predict(tree, row)\n",
    "        predictions.append(predict)\n",
    "    return predictions"
   ]
  },
  {
   "cell_type": "code",
   "execution_count": 116,
   "metadata": {},
   "outputs": [
    {
     "name": "stdout",
     "output_type": "stream",
     "text": [
      "length: predicted 1\n"
     ]
    },
    {
     "ename": "IndexError",
     "evalue": "list index out of range",
     "output_type": "error",
     "traceback": [
      "\u001b[0;31m---------------------------------------------------------------------------\u001b[0m",
      "\u001b[0;31mIndexError\u001b[0m                                Traceback (most recent call last)",
      "\u001b[0;32m<ipython-input-116-0f4d14715d69>\u001b[0m in \u001b[0;36m<module>\u001b[0;34m()\u001b[0m\n\u001b[1;32m      8\u001b[0m \u001b[0mmax_depth\u001b[0m \u001b[0;34m=\u001b[0m \u001b[0;36m5\u001b[0m\u001b[0;34m\u001b[0m\u001b[0m\n\u001b[1;32m      9\u001b[0m \u001b[0mmin_size\u001b[0m \u001b[0;34m=\u001b[0m \u001b[0;36m10\u001b[0m\u001b[0;34m\u001b[0m\u001b[0m\n\u001b[0;32m---> 10\u001b[0;31m \u001b[0mscores\u001b[0m \u001b[0;34m=\u001b[0m \u001b[0mevaluate_algorithm\u001b[0m\u001b[0;34m(\u001b[0m\u001b[0mdataset\u001b[0m\u001b[0;34m,\u001b[0m \u001b[0mdecision_tree\u001b[0m\u001b[0;34m,\u001b[0m \u001b[0mn_folds\u001b[0m\u001b[0;34m,\u001b[0m \u001b[0mmax_depth\u001b[0m\u001b[0;34m,\u001b[0m \u001b[0mmin_size\u001b[0m\u001b[0;34m)\u001b[0m\u001b[0;34m\u001b[0m\u001b[0m\n\u001b[0m\u001b[1;32m     11\u001b[0m \u001b[0mprint\u001b[0m\u001b[0;34m(\u001b[0m\u001b[0;34m'Scores: %s'\u001b[0m \u001b[0;34m%\u001b[0m \u001b[0mscores\u001b[0m\u001b[0;34m)\u001b[0m\u001b[0;34m\u001b[0m\u001b[0m\n\u001b[1;32m     12\u001b[0m \u001b[0mprint\u001b[0m\u001b[0;34m(\u001b[0m\u001b[0;34m'Mean Accuracy: %.3f%%'\u001b[0m \u001b[0;34m%\u001b[0m \u001b[0;34m(\u001b[0m\u001b[0msum\u001b[0m\u001b[0;34m(\u001b[0m\u001b[0mscores\u001b[0m\u001b[0;34m)\u001b[0m\u001b[0;34m/\u001b[0m\u001b[0mfloat\u001b[0m\u001b[0;34m(\u001b[0m\u001b[0mlen\u001b[0m\u001b[0;34m(\u001b[0m\u001b[0mscores\u001b[0m\u001b[0;34m)\u001b[0m\u001b[0;34m)\u001b[0m\u001b[0;34m)\u001b[0m\u001b[0;34m)\u001b[0m\u001b[0;34m\u001b[0m\u001b[0m\n",
      "\u001b[0;32m<ipython-input-110-14fe0f6886ca>\u001b[0m in \u001b[0;36mevaluate_algorithm\u001b[0;34m(dataset, algorithm, n_folds, *args)\u001b[0m\n\u001b[1;32m     16\u001b[0m             \u001b[0mprint\u001b[0m\u001b[0;34m(\u001b[0m\u001b[0;34m'length: predicted'\u001b[0m\u001b[0;34m,\u001b[0m \u001b[0mlen\u001b[0m\u001b[0;34m(\u001b[0m\u001b[0mpredicted\u001b[0m\u001b[0;34m)\u001b[0m\u001b[0;34m)\u001b[0m\u001b[0;34m\u001b[0m\u001b[0m\n\u001b[1;32m     17\u001b[0m             \u001b[0mactual\u001b[0m \u001b[0;34m=\u001b[0m \u001b[0;34m[\u001b[0m\u001b[0mrow\u001b[0m\u001b[0;34m[\u001b[0m\u001b[0;34m-\u001b[0m\u001b[0;36m1\u001b[0m\u001b[0;34m]\u001b[0m \u001b[0;32mfor\u001b[0m \u001b[0mrow\u001b[0m \u001b[0;32min\u001b[0m \u001b[0mfold\u001b[0m\u001b[0;34m]\u001b[0m\u001b[0;34m\u001b[0m\u001b[0m\n\u001b[0;32m---> 18\u001b[0;31m             \u001b[0maccuracy\u001b[0m \u001b[0;34m=\u001b[0m \u001b[0maccuracy_metric\u001b[0m\u001b[0;34m(\u001b[0m\u001b[0mactual\u001b[0m\u001b[0;34m,\u001b[0m \u001b[0mpredicted\u001b[0m\u001b[0;34m)\u001b[0m\u001b[0;34m\u001b[0m\u001b[0m\n\u001b[0m\u001b[1;32m     19\u001b[0m             \u001b[0mscores\u001b[0m\u001b[0;34m.\u001b[0m\u001b[0mappend\u001b[0m\u001b[0;34m(\u001b[0m\u001b[0maccuracy\u001b[0m\u001b[0;34m)\u001b[0m\u001b[0;34m\u001b[0m\u001b[0m\n\u001b[1;32m     20\u001b[0m         \u001b[0;32mreturn\u001b[0m \u001b[0mscores\u001b[0m\u001b[0;34m\u001b[0m\u001b[0m\n",
      "\u001b[0;32m<ipython-input-95-ea803ae7fa14>\u001b[0m in \u001b[0;36maccuracy_metric\u001b[0;34m(actual, predicted)\u001b[0m\n\u001b[1;32m      3\u001b[0m     \u001b[0mcorrect\u001b[0m \u001b[0;34m=\u001b[0m \u001b[0;36m0\u001b[0m\u001b[0;34m\u001b[0m\u001b[0m\n\u001b[1;32m      4\u001b[0m     \u001b[0;32mfor\u001b[0m \u001b[0mi\u001b[0m \u001b[0;32min\u001b[0m \u001b[0mrange\u001b[0m\u001b[0;34m(\u001b[0m\u001b[0mlen\u001b[0m\u001b[0;34m(\u001b[0m\u001b[0mactual\u001b[0m\u001b[0;34m)\u001b[0m\u001b[0;34m)\u001b[0m\u001b[0;34m:\u001b[0m\u001b[0;34m\u001b[0m\u001b[0m\n\u001b[0;32m----> 5\u001b[0;31m         \u001b[0;32mif\u001b[0m \u001b[0mactual\u001b[0m\u001b[0;34m[\u001b[0m\u001b[0mi\u001b[0m\u001b[0;34m]\u001b[0m \u001b[0;34m==\u001b[0m \u001b[0mpredicted\u001b[0m\u001b[0;34m[\u001b[0m\u001b[0mi\u001b[0m\u001b[0;34m]\u001b[0m\u001b[0;34m:\u001b[0m\u001b[0;34m\u001b[0m\u001b[0m\n\u001b[0m\u001b[1;32m      6\u001b[0m             \u001b[0mcorrect\u001b[0m \u001b[0;34m+=\u001b[0m \u001b[0;36m1\u001b[0m\u001b[0;34m\u001b[0m\u001b[0m\n\u001b[1;32m      7\u001b[0m     \u001b[0;32mreturn\u001b[0m \u001b[0mcorrect\u001b[0m \u001b[0;34m/\u001b[0m \u001b[0mfloat\u001b[0m\u001b[0;34m(\u001b[0m\u001b[0mlen\u001b[0m\u001b[0;34m(\u001b[0m\u001b[0mactual\u001b[0m\u001b[0;34m)\u001b[0m\u001b[0;34m)\u001b[0m \u001b[0;34m*\u001b[0m \u001b[0;36m100.0\u001b[0m\u001b[0;34m\u001b[0m\u001b[0m\n",
      "\u001b[0;31mIndexError\u001b[0m: list index out of range"
     ]
    }
   ],
   "source": [
    "filename = 'data_banknote_authentication.csv'\n",
    "dataset = load_csv(filename)\n",
    "# convert string attributes to integers\n",
    "for i in range(len(dataset[0])):\n",
    "    str_column_to_float(dataset, i)\n",
    "# evaluate algorithm\n",
    "n_folds = 5\n",
    "max_depth = 5\n",
    "min_size = 10\n",
    "scores = evaluate_algorithm(dataset, decision_tree, n_folds, max_depth, min_size)\n",
    "print('Scores: %s' % scores)\n",
    "print('Mean Accuracy: %.3f%%' % (sum(scores)/float(len(scores))))"
   ]
  },
  {
   "cell_type": "markdown",
   "metadata": {},
   "source": [
    "# 学到的 python\n"
   ]
  },
  {
   "cell_type": "code",
   "execution_count": 99,
   "metadata": {},
   "outputs": [
    {
     "data": {
      "text/plain": [
       "'hhh'"
      ]
     },
     "execution_count": 99,
     "metadata": {},
     "output_type": "execute_result"
    }
   ],
   "source": [
    "depth = 3\n",
    "depth*'h'"
   ]
  },
  {
   "cell_type": "code",
   "execution_count": 100,
   "metadata": {},
   "outputs": [],
   "source": [
    "data = [1,2,3,4]\n",
    "data_copy = list(data)"
   ]
  },
  {
   "cell_type": "code",
   "execution_count": 112,
   "metadata": {},
   "outputs": [
    {
     "data": {
      "text/plain": [
       "True"
      ]
     },
     "execution_count": 112,
     "metadata": {},
     "output_type": "execute_result"
    }
   ],
   "source": [
    "not []"
   ]
  },
  {
   "cell_type": "code",
   "execution_count": null,
   "metadata": {},
   "outputs": [],
   "source": []
  }
 ],
 "metadata": {
  "kernelspec": {
   "display_name": "Python 3",
   "language": "python",
   "name": "python3"
  },
  "language_info": {
   "codemirror_mode": {
    "name": "ipython",
    "version": 3
   },
   "file_extension": ".py",
   "mimetype": "text/x-python",
   "name": "python",
   "nbconvert_exporter": "python",
   "pygments_lexer": "ipython3",
   "version": "3.6.5"
  }
 },
 "nbformat": 4,
 "nbformat_minor": 2
}
