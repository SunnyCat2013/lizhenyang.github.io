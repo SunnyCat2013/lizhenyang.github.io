{
 "cells": [
  {
   "cell_type": "markdown",
   "metadata": {},
   "source": [
    "# 使用 python 自己写一个 决策树\n",
    "很多复杂的学习方法，明白了其基础之后，一切就变得简单、易懂，并且符合直觉。\n",
    "我今天打算手写一个决策树，或者说是“分类回归树”。"
   ]
  },
  {
   "cell_type": "markdown",
   "metadata": {},
   "source": [
    "## 参考\n",
    "https://machinelearningmastery.com/implement-decision-tree-algorithm-scratch-python/\n"
   ]
  },
  {
   "cell_type": "markdown",
   "metadata": {},
   "source": [
    "决策树是一种强大的预测方法，在工业界的数据分析和决策中非常好用。\n",
    "它受欢迎的一个主要原因是，它最终的模型就像给你写出了一堆 `if else` 的判断条件。\n",
    "这样，无论通过模型获得怎样的结果，都可以通过判断条件进行反推。\n",
    "因为这个优势的存在，决策树就可以帮助我们这些从业人员，更好地分析数据。\n",
    "\n",
    "同时决策树还是其它先进的集成学习方法（advanced ensemble methods）的基石。\n",
    "如，bagging, random forests 和 gradient boosting。"
   ]
  },
  {
   "cell_type": "markdown",
   "metadata": {},
   "source": [
    "## 待解决的几个总是\n",
    "- 如何评估分裂点。知道如何评估之后，就可以找到它了。\n",
    "- How to arrange splits into a decision tree structure.\n",
    "- 怎么在一个实际问题中使用决策树"
   ]
  },
  {
   "cell_type": "markdown",
   "metadata": {},
   "source": [
    "## 简介\n",
    "Classification and Regression Tree(CART) 是对决策树的一个比较现代的叫法。\n",
    "决策树用到的模型是二叉树这种数据结构，每个结点有 0 个，或者 1 个，或者 2 个子结点。\n",
    "\n",
    "每个结点，代表了一个输入变量和这个变量的分割点，叶结点包含一个输出。\n",
    "\n",
    "决策树一旦创建，新的数据就可以通过根结点，经过各种判断条件，最终到叶结点，并把叶结点表示的结果作为输出。"
   ]
  },
  {
   "cell_type": "code",
   "execution_count": null,
   "metadata": {},
   "outputs": [],
   "source": []
  }
 ],
 "metadata": {
  "kernelspec": {
   "display_name": "Python 3",
   "language": "python",
   "name": "python3"
  },
  "language_info": {
   "codemirror_mode": {
    "name": "ipython",
    "version": 3
   },
   "file_extension": ".py",
   "mimetype": "text/x-python",
   "name": "python",
   "nbconvert_exporter": "python",
   "pygments_lexer": "ipython3",
   "version": "3.6.5"
  }
 },
 "nbformat": 4,
 "nbformat_minor": 2
}
