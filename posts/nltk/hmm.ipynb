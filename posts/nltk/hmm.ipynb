{
 "cells": [
  {
   "cell_type": "markdown",
   "metadata": {},
   "source": [
    "# Reference\n",
    "[hmmlearn](https://hmmlearn.readthedocs.io/en/latest/tutorial.html)\n",
    "\n",
    "[Sampling from HMM](https://hmmlearn.readthedocs.io/en/latest/auto_examples/plot_hmm_sampling.html#sphx-glr-auto-examples-plot-hmm-sampling-py)"
   ]
  },
  {
   "cell_type": "markdown",
   "metadata": {},
   "source": [
    "# HMM 的三个待解决问题\n",
    "There are three fundamental problems for HMMs:\n",
    "\n",
    "Given the model parameters and observed data, estimate the optimal sequence of hidden states.\n",
    "Given the model parameters and observed data, calculate the likelihood of the data.\n",
    "Given just the observed data, estimate the model parameters."
   ]
  },
  {
   "cell_type": "markdown",
   "metadata": {},
   "source": [
    "# NLTK 实例\n",
    "[demo_pos](https://www.nltk.org/_modules/nltk/tag/hmm.html#demo_pos)\n"
   ]
  },
  {
   "cell_type": "code",
   "execution_count": 39,
   "metadata": {},
   "outputs": [],
   "source": [
    "import nltk"
   ]
  },
  {
   "cell_type": "markdown",
   "metadata": {},
   "source": [
    "[nltk.tag.hmm module](https://www.nltk.org/api/nltk.tag.html?highlight=hmm#module-nltk.tag.hmm)"
   ]
  },
  {
   "cell_type": "markdown",
   "metadata": {},
   "source": [
    "# HMM 的表述\n",
    "- the output observation alphabet. This is the set of symbols which may be observed as output of the system. \n",
    "输出观测结果的集合，如[红球，白球..]，[阴天，晴天...]\n",
    "- the set of states. 隐藏状态集合，如 [盒子1，盒子2...]\n",
    "- the transition probabilities a_{ij} = P(s_t = j | s_{t-1} = i). These represent the probability of transition to each state from a given state. 转移概率，如从盒子 i 到盒子 j 的转移概率。\n",
    "- the output probability matrix b_i(k) = P(X_t = o_k | s_t = i). These represent the probability of observing each symbol in a given state. 在给定隐藏状态的时候，不同观测结果出现的概率。如在盒子 1 中有 3 个红球 2 个白球，那么在盒子 1 中的观测概率为 [0.6, 0.4]。\n",
    "- the initial state distribution. This gives the probability of starting in each state. 观测初始概率，即第一个观测结果出现在哪个隐藏状态的概率。\n"
   ]
  },
  {
   "cell_type": "code",
   "execution_count": null,
   "metadata": {},
   "outputs": [],
   "source": []
  }
 ],
 "metadata": {
  "kernelspec": {
   "display_name": "Python 2",
   "language": "python",
   "name": "python2"
  },
  "language_info": {
   "codemirror_mode": {
    "name": "ipython",
    "version": 2
   },
   "file_extension": ".py",
   "mimetype": "text/x-python",
   "name": "python",
   "nbconvert_exporter": "python",
   "pygments_lexer": "ipython2",
   "version": "2.7.10"
  }
 },
 "nbformat": 4,
 "nbformat_minor": 2
}
