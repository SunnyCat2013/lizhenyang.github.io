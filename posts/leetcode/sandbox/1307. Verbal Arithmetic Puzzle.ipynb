{
 "cells": [
  {
   "cell_type": "code",
   "execution_count": 8,
   "metadata": {},
   "outputs": [
    {
     "name": "stdout",
     "output_type": "stream",
     "text": [
      "20\n",
      "30\n"
     ]
    }
   ],
   "source": [
    "def gener(i):\n",
    "    i = i + 1\n",
    "    if i % 10 == 0:\n",
    "        yield i\n",
    "    yield from gener(i)\n",
    "\n",
    "a = gener(0)\n",
    "next(a)\n",
    "print(next(a))\n",
    "print(next(a))\n",
    "\n",
    "    "
   ]
  },
  {
   "cell_type": "code",
   "execution_count": 37,
   "metadata": {},
   "outputs": [
    {
     "ename": "SyntaxError",
     "evalue": "invalid syntax (<ipython-input-37-4359cb571d29>, line 21)",
     "output_type": "error",
     "traceback": [
      "\u001b[0;36m  File \u001b[0;32m\"<ipython-input-37-4359cb571d29>\"\u001b[0;36m, line \u001b[0;32m21\u001b[0m\n\u001b[0;31m    return yield from layer_solution(num, alp, dic, carry, words, leader_s, deep + 1)\u001b[0m\n\u001b[0m               ^\u001b[0m\n\u001b[0;31mSyntaxError\u001b[0m\u001b[0;31m:\u001b[0m invalid syntax\n"
     ]
    }
   ],
   "source": [
    "'''\n",
    "In the very begin, I used enumeration, but ran out of time.\n",
    "Then I thought to check `sum([w[-1] for w in words] + carry) % 10 == result[-1]` would be a better method for pruning\n",
    "Since there is no need to enumerate all the methods, I used generator to emit one solution each time.\n",
    "'''\n",
    "class Solution(object):\n",
    "    def isSolvable(self, words, result):\n",
    "        \"\"\"\n",
    "        :type words: List[str]\n",
    "        :type result: str\n",
    "        :rtype: bool\n",
    "        \"\"\"\n",
    "        def layer_solution(num, alp, dic, carry, words, leader_s, deep):\n",
    "            if deep == len(alp):\n",
    "                s = sum([dic[a] for a in alp[:-1]] + [carry])\n",
    "                if s % 10 == dic[alp[-1]]:\n",
    "                    yield dic, int(s / 10), num\n",
    "                return\n",
    "            a = alp[deep] \n",
    "            if a in dic:\n",
    "                yield from layer_solution(num, alp, dic, carry, words, leader_s, deep + 1)\n",
    "                return\n",
    "            for i, nu in enumerate(num):\n",
    "                if a in leader_s and nu == 0:\n",
    "                    continue\n",
    "                dic[a] = nu\n",
    "                yield from layer_solution(num[:i] + num[i + 1:], alp, dic, carry, words, leader_s, deep + 1)\n",
    "                del dic[a]\n",
    "            return \n",
    "        \n",
    "        leader_s = set()\n",
    "        alphabet = set()\n",
    "        for w in words + [result]:\n",
    "            leader_s.add(w[0])\n",
    "            for c in w:\n",
    "                alphabet.add(c)\n",
    "        \n",
    "        def cal(dic, word):\n",
    "            res = 0\n",
    "            for c in word:\n",
    "                res = res * 10 + dic[c]\n",
    "            return res\n",
    "\n",
    "        def bfs(num, alphabet, dic, words, result, leader_s, carry, deep):\n",
    "            if len(alphabet) == len(dic):\n",
    "                return sum([cal(dic, w) for w in words]) == cal(dic, result)\n",
    "            \n",
    "            cur_alp = [w[-1 - deep] for w in words + [result] if len(w) > deep]\n",
    "\n",
    "            for ndic, c, nu in layer_solution(num, cur_alp, {**dic}, carry, words, leader_s, 0):\n",
    "                if bfs(nu, alphabet, ndic, words, result, leader_s, c, deep + 1):\n",
    "                    return True\n",
    "            return False\n",
    "        \n",
    "        return bfs([i for i in range(10)], alphabet, {}, words, result, leader_s, 0, 0)\n",
    "             \n",
    "\n",
    "\n",
    "a = Solution()\n",
    "# Map 'S'-> 9, 'E'->5, 'N'->6, 'D'->7, 'M'->1, 'O'->0, 'R'->8, 'Y'->'2'\n",
    "print(a.isSolvable([\"SEND\",\"MORE\"], \"MONEY\") == True)\n",
    "# Map 'S'-> 6, 'I'->5, 'X'->0, 'E'->8, 'V'->7, 'N'->2, 'T'->1, 'W'->'3', 'Y'->4\n",
    "print(a.isSolvable([\"SIX\",\"SEVEN\",\"SEVEN\"], \"TWENTY\") == True)\n",
    "print(a.isSolvable([\"THIS\",\"IS\",\"TOO\"], \"FUNNY\") == True)\n",
    "print(a.isSolvable([\"LEET\",\"CODE\"], \"POINT\") == False)\n"
   ]
  },
  {
   "cell_type": "code",
   "execution_count": null,
   "metadata": {},
   "outputs": [],
   "source": []
  },
  {
   "cell_type": "code",
   "execution_count": null,
   "metadata": {},
   "outputs": [],
   "source": []
  }
 ],
 "metadata": {
  "kernelspec": {
   "display_name": "Python 3",
   "language": "python",
   "name": "python3"
  },
  "language_info": {
   "codemirror_mode": {
    "name": "ipython",
    "version": 3
   },
   "file_extension": ".py",
   "mimetype": "text/x-python",
   "name": "python",
   "nbconvert_exporter": "python",
   "pygments_lexer": "ipython3",
   "version": "3.7.3"
  }
 },
 "nbformat": 4,
 "nbformat_minor": 2
}
