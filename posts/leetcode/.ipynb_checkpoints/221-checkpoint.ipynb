{
 "cells": [
  {
   "cell_type": "code",
   "execution_count": 1,
   "metadata": {},
   "outputs": [],
   "source": [
    "matrix = [[\"1\",\"0\",\"1\",\"0\",\"0\"],[\"1\",\"0\",\"1\",\"1\",\"1\"],[\"1\",\"1\",\"1\",\"1\",\"1\"],[\"1\",\"0\",\"0\",\"1\",\"0\"]]"
   ]
  },
  {
   "cell_type": "code",
   "execution_count": 2,
   "metadata": {},
   "outputs": [],
   "source": [
    "def format_print(matrix):\n",
    "    for row in matrix:\n",
    "        #for col in row:\n",
    "        print('\\t'.join(row))\n",
    "        print('\\b')\n"
   ]
  },
  {
   "cell_type": "code",
   "execution_count": 3,
   "metadata": {
    "scrolled": true
   },
   "outputs": [
    {
     "name": "stdout",
     "output_type": "stream",
     "text": [
      "1\t0\t1\t0\t0\n",
      "\b\n",
      "1\t0\t1\t1\t1\n",
      "\b\n",
      "1\t1\t1\t1\t1\n",
      "\b\n",
      "1\t0\t0\t1\t0\n",
      "\b\n"
     ]
    }
   ],
   "source": [
    "format_print(matrix)"
   ]
  },
  {
   "cell_type": "code",
   "execution_count": 4,
   "metadata": {},
   "outputs": [],
   "source": [
    "class Solution(object):\n",
    "    def maximalSquare(self, matrix):\n",
    "        \"\"\"\n",
    "        :type matrix: List[List[str]]\n",
    "        :rtype: int\n",
    "        \"\"\"\n",
    "        if len(matrix) == 0:\n",
    "            return 0\n",
    "        format_print(matrix)\n",
    "        matrix = [[int(col) for col in row] for row in matrix]\n",
    "        \n",
    "        r_len = len(matrix)\n",
    "        c_len = len(matrix[0])\n",
    "        \n",
    "        \n",
    "        row_mat = [[0 for c in range(c_len + 1)] for r in range(r_len + 1)]\n",
    "        col_mat = [[0 for c in range(c_len + 1)] for r in range(r_len + 1)]\n",
    "        max_squ = 0\n",
    "        squ_mat = [[0 for c in range(c_len + 1)] for r in range(r_len + 1)]\n",
    "        \n",
    "        for i, row in enumerate(matrix):\n",
    "            for j, col in enumerate(row):\n",
    "                if col == 1:\n",
    "                    row_mat[i + 1][j + 1] = row_mat[i + 1][j] + 1\n",
    "                    col_mat[i + 1][j + 1] = col_mat[i][j + 1] + 1\n",
    "                    dia_squ = squ_mat[i][j]\n",
    "                    \n",
    "                    squ_len = min(dia_squ + 1, min(row_mat[i + 1][j + 1], col_mat[i + 1][j + 1]))\n",
    "                    squ_mat[i + 1][j + 1] = squ_len\n",
    "                    if squ_len * squ_len > max_squ:\n",
    "                        max_squ = squ_len * squ_len\n",
    "                else:\n",
    "                    row_mat[i + 1][j + 1] = 0\n",
    "                    col_mat[i + 1][j + 1] = 0\n",
    "                    squ_mat[i + 1][j + 1] = 0\n",
    "        return max_squ"
   ]
  },
  {
   "cell_type": "code",
   "execution_count": 5,
   "metadata": {},
   "outputs": [
    {
     "data": {
      "text/plain": [
       "4"
      ]
     },
     "execution_count": 5,
     "metadata": {},
     "output_type": "execute_result"
    }
   ],
   "source": [
    "len(matrix)"
   ]
  },
  {
   "cell_type": "code",
   "execution_count": 6,
   "metadata": {},
   "outputs": [],
   "source": [
    "a = Solution()"
   ]
  },
  {
   "cell_type": "code",
   "execution_count": 7,
   "metadata": {},
   "outputs": [
    {
     "name": "stdout",
     "output_type": "stream",
     "text": [
      "1\t0\t1\t0\t0\n",
      "\b\n",
      "1\t0\t1\t1\t1\n",
      "\b\n",
      "1\t1\t1\t1\t1\n",
      "\b\n",
      "1\t0\t0\t1\t0\n",
      "\b\n"
     ]
    },
    {
     "data": {
      "text/plain": [
       "4"
      ]
     },
     "execution_count": 7,
     "metadata": {},
     "output_type": "execute_result"
    }
   ],
   "source": [
    "a.maximalSquare(matrix)"
   ]
  },
  {
   "cell_type": "code",
   "execution_count": null,
   "metadata": {},
   "outputs": [],
   "source": []
  }
 ],
 "metadata": {
  "kernelspec": {
   "display_name": "Python 3",
   "language": "python",
   "name": "python3"
  },
  "language_info": {
   "codemirror_mode": {
    "name": "ipython",
    "version": 3
   },
   "file_extension": ".py",
   "mimetype": "text/x-python",
   "name": "python",
   "nbconvert_exporter": "python",
   "pygments_lexer": "ipython3",
   "version": "3.6.5"
  }
 },
 "nbformat": 4,
 "nbformat_minor": 2
}
