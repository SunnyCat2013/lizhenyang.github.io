{
  "nbformat": 4,
  "nbformat_minor": 0,
  "metadata": {
    "colab": {
      "name": "L0-1-2-norms.ipynb",
      "version": "0.3.2",
      "provenance": [],
      "collapsed_sections": []
    },
    "kernelspec": {
      "name": "python2",
      "display_name": "Python 2"
    }
  },
  "cells": [
    {
      "metadata": {
        "id": "dEDZjnFKJBFr",
        "colab_type": "text"
      },
      "cell_type": "markdown",
      "source": [
        "[Gentle Introduction to Vector Norms in Machine Learning](https://machinelearningmastery.com/vector-norms-machine-learning)\n",
        "\n",
        "[机器学习中的范数规则化之（一）L0、L1与L2范数](https://blog.csdn.net/zouxy09/article/details/24971995)\n",
        "\n",
        "Norm 被翻译为范式，其实是度量向量长度或者大小的方法。\n",
        "\n",
        "L1: 是向量中的所有值的经验值之和。$\\sum_{i = 1}^{n}{|x_i|}$\n",
        "\n",
        "L2: 是所有向量的平方和的平方根。$\\sqrt{ \\sum_{i = 1}^{n}{x_i^2}}$\n"
      ]
    },
    {
      "metadata": {
        "id": "kgdN8Al2PvDa",
        "colab_type": "text"
      },
      "cell_type": "markdown",
      "source": [
        "> 监督学习：minimize your error while regularizing your parameters.\n",
        "这句话真的是很有意思。规则化指的是把参数规范化到某个地步吗，如用公式往 0 这个方向规范。\n",
        "\n",
        "监督学习目标函数：$Target = \\arg\\min_{\\omega} \\sum_{i}^{n}L(y_i, f(x_i;\\omega)) + \\lambda \\Omega(\\omega) $\n",
        "\n",
        "\n",
        "\n",
        "`对于第一项Loss函数，如果是Square loss，那就是最小二乘了；如果是Hinge Loss，那就是著名的SVM了；如果是exp-Loss，那就是牛逼的 Boosting了；如果是log-Loss，那就是Logistic Regression了`\n",
        "\n"
      ]
    },
    {
      "metadata": {
        "id": "dh9EdWkMYtXc",
        "colab_type": "text"
      },
      "cell_type": "markdown",
      "source": [
        "L0 范数： 指向量中非 0 的个数\n",
        "\n",
        "L1 范数：指向量中各个元素的绝对值之和。`L1范数和L0范数可以实现稀疏，L1因具有比L0更好的优化求解特性而被广泛应用。` “稀疏”这个比较好理解好理解，因为如果 $\\sum_i^n|x_i|$ 变小，那么每一个值都应该变小才对。这样有部分就会趋近于 0。\n",
        "\n",
        "L2 范数：指 $\\sqrt{\\sum_i^n{x_i^2}}$\n",
        "`让L2范数的规则项||W||2最小，可以使得W的每个元素都很小，都接近于0，但与L1范数不同，它不会让它等于0，而是接近于0，这里是有很大的区别的哦。而越小的参数说明模型越简单，越简单的模型则越不容易产生过拟合现象。`\n"
      ]
    },
    {
      "metadata": {
        "id": "yGeZEvGmbZed",
        "colab_type": "text"
      },
      "cell_type": "markdown",
      "source": [
        "# 稀疏化的优点\n",
        "1. 特征选择\n",
        "- 权重为 0 就不会再选这个特征了呗\n",
        "\n",
        "2. 可解释性\n",
        "- 和上面一样，哪个特征的权重大，这个特征就比较重要呗"
      ]
    },
    {
      "metadata": {
        "id": "NSmRfKc4IvdK",
        "colab_type": "code",
        "colab": {
          "base_uri": "https://localhost:8080/",
          "height": 134
        },
        "outputId": "728e58f3-19cb-4047-e59d-0032c54a7fa6"
      },
      "cell_type": "code",
      "source": [
        ""
      ],
      "execution_count": 2,
      "outputs": [
        {
          "output_type": "error",
          "ename": "SyntaxError",
          "evalue": "ignored",
          "traceback": [
            "\u001b[0;36m  File \u001b[0;32m\"<ipython-input-2-7d6a86649920>\"\u001b[0;36m, line \u001b[0;32m1\u001b[0m\n\u001b[0;31m    https://machinelearningmastery.com/vector-norms-machine-learning\u001b[0m\n\u001b[0m         ^\u001b[0m\n\u001b[0;31mSyntaxError\u001b[0m\u001b[0;31m:\u001b[0m invalid syntax\n"
          ]
        }
      ]
    },
    {
      "metadata": {
        "id": "5wfgq7gPPsIV",
        "colab_type": "text"
      },
      "cell_type": "markdown",
      "source": [
        ""
      ]
    },
    {
      "metadata": {
        "id": "YwcSnI6yPtU5",
        "colab_type": "text"
      },
      "cell_type": "markdown",
      "source": [
        ""
      ]
    },
    {
      "metadata": {
        "id": "OCAaH3nhI3wv",
        "colab_type": "code",
        "colab": {
          "base_uri": "https://localhost:8080/",
          "height": 134
        },
        "outputId": "ffb9e09a-280b-4e99-8503-8d6d6668460e"
      },
      "cell_type": "code",
      "source": [
        "https://machinelearningmastery.com/vector-norms-machine-learning"
      ],
      "execution_count": 3,
      "outputs": [
        {
          "output_type": "error",
          "ename": "SyntaxError",
          "evalue": "ignored",
          "traceback": [
            "\u001b[0;36m  File \u001b[0;32m\"<ipython-input-3-7d6a86649920>\"\u001b[0;36m, line \u001b[0;32m1\u001b[0m\n\u001b[0;31m    https://machinelearningmastery.com/vector-norms-machine-learning\u001b[0m\n\u001b[0m         ^\u001b[0m\n\u001b[0;31mSyntaxError\u001b[0m\u001b[0;31m:\u001b[0m invalid syntax\n"
          ]
        }
      ]
    },
    {
      "metadata": {
        "id": "nV2W1WddJNwG",
        "colab_type": "code",
        "colab": {}
      },
      "cell_type": "code",
      "source": [
        ""
      ],
      "execution_count": 0,
      "outputs": []
    }
  ]
}